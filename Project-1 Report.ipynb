{
 "cells": [
  {
   "cell_type": "markdown",
   "metadata": {},
   "source": [
    "# Comparison of textile Imports to US from World vs China\n",
    "#### Harsh Shah, Christopher Rosales, Yu-Wen Chen\n",
    "\n",
    "## Objective\n",
    "\n",
    "In this analysis, we will analyze certain aspect of the textile industry and the United States Trade with China. More specifically, we want to gain insight into the behavior of these different categories of the textile industry and see how they react to one another. The data comes from the United States Department of Commerce, with monthly import data from China, from 2003 through 2020.\n",
    "\n",
    "We want to analyze the correlation between the different textile categories holistically, then in the 2008 recession era, and finally in the current Covid-19 era. If we can identify strong correlations, the stakeholder can make a better decision on what category of the textile industry to focus on. They can study this specific category closely, and use the past data from the 2008 recession to make inferences for how it might behave during the current Covid crisis.\n",
    "\n",
    "The stakeholder for this would be the US Department of Commerce, which normally is called upon to make suggestions in trade/tariff policy making. Insight into correlations between textile categories can help influence where efforts are best spent."
   ]
  },
  {
   "cell_type": "code",
   "execution_count": 155,
   "metadata": {},
   "outputs": [],
   "source": [
    "library(GGally)\n",
    "library(tidyverse)"
   ]
  },
  {
   "cell_type": "code",
   "execution_count": 3,
   "metadata": {},
   "outputs": [],
   "source": [
    "#loading data\n",
    "data <- read.csv(\"new_data.csv\")"
   ]
  },
  {
   "cell_type": "markdown",
   "metadata": {},
   "source": [
    "### Data Exploration(1/4)"
   ]
  },
  {
   "cell_type": "code",
   "execution_count": 132,
   "metadata": {},
   "outputs": [
    {
     "data": {
      "text/html": [
       "<table>\n",
       "<thead><tr><th scope=col>Category</th><th scope=col>Item</th><th scope=col>X2003</th><th scope=col>X2004</th><th scope=col>X2005</th><th scope=col>X2006</th><th scope=col>X2007</th><th scope=col>X2008</th><th scope=col>X2009</th><th scope=col>X2010</th><th scope=col>...</th><th scope=col>Oct.03</th><th scope=col>Sep.03</th><th scope=col>Aug.03</th><th scope=col>Jul.03</th><th scope=col>Jun.03</th><th scope=col>May.03</th><th scope=col>Apr.03</th><th scope=col>Mar.03</th><th scope=col>Feb.03</th><th scope=col>Jan.03</th></tr></thead>\n",
       "<tbody>\n",
       "\t<tr><td>                                 </td><td>                                 </td><td>                                 </td><td>                                 </td><td>                                 </td><td>                                 </td><td>                                 </td><td>                                 </td><td>                                 </td><td>                                 </td><td>...                              </td><td>                                 </td><td>                                 </td><td>                                 </td><td>                                 </td><td>                                 </td><td>                                 </td><td>                                 </td><td>                                 </td><td>                                 </td><td>                                 </td></tr>\n",
       "\t<tr><td>200/301                          </td><td>Imports from the world ($)       </td><td>277,430,029                      </td><td>415,842,557                      </td><td>414,534,831                      </td><td>372,199,929                      </td><td>289,041,401                      </td><td>279,894,752                      </td><td>226,077,990                      </td><td>280,791,228                      </td><td>...                              </td><td>23,495,184                       </td><td>23,771,968                       </td><td>23,282,649                       </td><td>25,092,423                       </td><td>25,120,897                       </td><td>24,815,030                       </td><td>23,481,272                       </td><td>22,836,845                       </td><td>19,523,163                       </td><td>18,821,608                       </td></tr>\n",
       "\t<tr><td>200/301                          </td><td>Imports from China ($)           </td><td>8,984,223                        </td><td>16,395,205                       </td><td>28,310,203                       </td><td>18,401,779                       </td><td>12,724,670                       </td><td>16,461,879                       </td><td>14,817,764                       </td><td>23,676,756                       </td><td>...                              </td><td>925,311                          </td><td>743,319                          </td><td>1,002,834                        </td><td>1,209,634                        </td><td>720,384                          </td><td>663,289                          </td><td>734,490                          </td><td>466,547                          </td><td>627,371                          </td><td>496,201                          </td></tr>\n",
       "\t<tr><td>200/301                          </td><td>China share (percent)            </td><td>3.2                              </td><td>3.9                              </td><td>6.8                              </td><td>4.9                              </td><td>4.4                              </td><td>5.9                              </td><td>6.6                              </td><td>8.4                              </td><td>...                              </td><td>3.9                              </td><td>3.1                              </td><td>4.3                              </td><td>4.8                              </td><td>2.9                              </td><td>2.7                              </td><td>3.1                              </td><td>2                                </td><td>3.2                              </td><td>2.6                              </td></tr>\n",
       "\t<tr><td>                                 </td><td>                                 </td><td>                                 </td><td>                                 </td><td>                                 </td><td>                                 </td><td>                                 </td><td>                                 </td><td>                                 </td><td>                                 </td><td>...                              </td><td>                                 </td><td>                                 </td><td>                                 </td><td>                                 </td><td>                                 </td><td>                                 </td><td>                                 </td><td>                                 </td><td>                                 </td><td>                                 </td></tr>\n",
       "\t<tr><td>200/301                          </td><td>World quantity (kilograms)       </td><td>66,666,546                       </td><td>85,222,969                       </td><td>91,082,387                       </td><td>87,310,277                       </td><td>60,203,116                       </td><td>55,425,586                       </td><td>40,456,599                       </td><td>45,495,025                       </td><td>...                              </td><td>5,844,903                        </td><td>5,722,542                        </td><td>5,989,484                        </td><td>6,591,494                        </td><td>6,230,411                        </td><td>5,976,049                        </td><td>5,645,941                        </td><td>5,250,181                        </td><td>4,676,217                        </td><td>4,274,614                        </td></tr>\n",
       "\t<tr><td>200/301                          </td><td>Quantity from China (kilograms)  </td><td>2,416,042                        </td><td>3,067,676                        </td><td>6,949,753                        </td><td>3,813,085                        </td><td>2,701,794                        </td><td>3,599,327                        </td><td>2,946,804                        </td><td>4,901,616                        </td><td>...                              </td><td>237,210                          </td><td>199,220                          </td><td>259,855                          </td><td>373,204                          </td><td>209,326                          </td><td>160,613                          </td><td>215,321                          </td><td>147,631                          </td><td>149,992                          </td><td>145,931                          </td></tr>\n",
       "\t<tr><td>200/301                          </td><td>China quantity share (percent)   </td><td>3.6                              </td><td>3.6                              </td><td>7.6                              </td><td>4.4                              </td><td>4.5                              </td><td>6.5                              </td><td>7.3                              </td><td>10.8                             </td><td>...                              </td><td>4.1                              </td><td>3.5                              </td><td>4.3                              </td><td>5.7                              </td><td>3.4                              </td><td>2.7                              </td><td>3.8                              </td><td>2.8                              </td><td>3.2                              </td><td>3.4                              </td></tr>\n",
       "\t<tr><td>                                 </td><td>                                 </td><td>                                 </td><td>                                 </td><td>                                 </td><td>                                 </td><td>                                 </td><td>                                 </td><td>                                 </td><td>                                 </td><td>...                              </td><td>                                 </td><td>                                 </td><td>                                 </td><td>                                 </td><td>                                 </td><td>                                 </td><td>                                 </td><td>                                 </td><td>                                 </td><td>                                 </td></tr>\n",
       "\t<tr><td>200/301                          </td><td>World unit value ($ per kilogram)</td><td>4.16                             </td><td>4.88                             </td><td>4.55                             </td><td>4.26                             </td><td>4.8                              </td><td>5.05                             </td><td>5.59                             </td><td>6.17                             </td><td>...                              </td><td>4.02                             </td><td>4.15                             </td><td>3.89                             </td><td>3.81                             </td><td>4.03                             </td><td>4.15                             </td><td>4.16                             </td><td>4.35                             </td><td>4.17                             </td><td>4.4                              </td></tr>\n",
       "\t<tr><td>200/301                          </td><td>China unit value ($ per kilogram)</td><td>3.72                             </td><td>5.34                             </td><td>4.07                             </td><td>4.83                             </td><td>4.71                             </td><td>4.57                             </td><td>5.03                             </td><td>4.83                             </td><td>...                              </td><td>3.9                              </td><td>3.73                             </td><td>3.86                             </td><td>3.24                             </td><td>3.44                             </td><td>4.13                             </td><td>3.41                             </td><td>3.16                             </td><td>4.18                             </td><td>3.4                              </td></tr>\n",
       "\t<tr><td>                                 </td><td>                                 </td><td>                                 </td><td>                                 </td><td>                                 </td><td>                                 </td><td>                                 </td><td>                                 </td><td>                                 </td><td>                                 </td><td>...                              </td><td>                                 </td><td>                                 </td><td>                                 </td><td>                                 </td><td>                                 </td><td>                                 </td><td>                                 </td><td>                                 </td><td>                                 </td><td>                                 </td></tr>\n",
       "</tbody>\n",
       "</table>\n"
      ],
      "text/latex": [
       "\\begin{tabular}{r|lllllllllllllllllllllllllllllllllllllllllllllllllllllllllllllllllllllllllllllllllllllllllllllllllllllllllllllllllllllllllllllllllllllllllllllllllllllllllllllllllllllllllllllllllllllllllllllllllllllllllllllllllllllllllllllllllllll}\n",
       " Category & Item & X2003 & X2004 & X2005 & X2006 & X2007 & X2008 & X2009 & X2010 & ... & Oct.03 & Sep.03 & Aug.03 & Jul.03 & Jun.03 & May.03 & Apr.03 & Mar.03 & Feb.03 & Jan.03\\\\\n",
       "\\hline\n",
       "\t                                   &                                   &                                   &                                   &                                   &                                   &                                   &                                   &                                   &                                   & ...                               &                                   &                                   &                                   &                                   &                                   &                                   &                                   &                                   &                                   &                                  \\\\\n",
       "\t 200/301                             & Imports from the world (\\$)        & 277,430,029                         & 415,842,557                         & 414,534,831                         & 372,199,929                         & 289,041,401                         & 279,894,752                         & 226,077,990                         & 280,791,228                         & ...                                 & 23,495,184                          & 23,771,968                          & 23,282,649                          & 25,092,423                          & 25,120,897                          & 24,815,030                          & 23,481,272                          & 22,836,845                          & 19,523,163                          & 18,821,608                         \\\\\n",
       "\t 200/301                             & Imports from China (\\$)            & 8,984,223                           & 16,395,205                          & 28,310,203                          & 18,401,779                          & 12,724,670                          & 16,461,879                          & 14,817,764                          & 23,676,756                          & ...                                 & 925,311                             & 743,319                             & 1,002,834                           & 1,209,634                           & 720,384                             & 663,289                             & 734,490                             & 466,547                             & 627,371                             & 496,201                            \\\\\n",
       "\t 200/301                           & China share (percent)             & 3.2                               & 3.9                               & 6.8                               & 4.9                               & 4.4                               & 5.9                               & 6.6                               & 8.4                               & ...                               & 3.9                               & 3.1                               & 4.3                               & 4.8                               & 2.9                               & 2.7                               & 3.1                               & 2                                 & 3.2                               & 2.6                              \\\\\n",
       "\t                                   &                                   &                                   &                                   &                                   &                                   &                                   &                                   &                                   &                                   & ...                               &                                   &                                   &                                   &                                   &                                   &                                   &                                   &                                   &                                   &                                  \\\\\n",
       "\t 200/301                           & World quantity (kilograms)        & 66,666,546                        & 85,222,969                        & 91,082,387                        & 87,310,277                        & 60,203,116                        & 55,425,586                        & 40,456,599                        & 45,495,025                        & ...                               & 5,844,903                         & 5,722,542                         & 5,989,484                         & 6,591,494                         & 6,230,411                         & 5,976,049                         & 5,645,941                         & 5,250,181                         & 4,676,217                         & 4,274,614                        \\\\\n",
       "\t 200/301                           & Quantity from China (kilograms)   & 2,416,042                         & 3,067,676                         & 6,949,753                         & 3,813,085                         & 2,701,794                         & 3,599,327                         & 2,946,804                         & 4,901,616                         & ...                               & 237,210                           & 199,220                           & 259,855                           & 373,204                           & 209,326                           & 160,613                           & 215,321                           & 147,631                           & 149,992                           & 145,931                          \\\\\n",
       "\t 200/301                           & China quantity share (percent)    & 3.6                               & 3.6                               & 7.6                               & 4.4                               & 4.5                               & 6.5                               & 7.3                               & 10.8                              & ...                               & 4.1                               & 3.5                               & 4.3                               & 5.7                               & 3.4                               & 2.7                               & 3.8                               & 2.8                               & 3.2                               & 3.4                              \\\\\n",
       "\t                                   &                                   &                                   &                                   &                                   &                                   &                                   &                                   &                                   &                                   & ...                               &                                   &                                   &                                   &                                   &                                   &                                   &                                   &                                   &                                   &                                  \\\\\n",
       "\t 200/301                             & World unit value (\\$ per kilogram) & 4.16                                & 4.88                                & 4.55                                & 4.26                                & 4.8                                 & 5.05                                & 5.59                                & 6.17                                & ...                                 & 4.02                                & 4.15                                & 3.89                                & 3.81                                & 4.03                                & 4.15                                & 4.16                                & 4.35                                & 4.17                                & 4.4                                \\\\\n",
       "\t 200/301                             & China unit value (\\$ per kilogram) & 3.72                                & 5.34                                & 4.07                                & 4.83                                & 4.71                                & 4.57                                & 5.03                                & 4.83                                & ...                                 & 3.9                                 & 3.73                                & 3.86                                & 3.24                                & 3.44                                & 4.13                                & 3.41                                & 3.16                                & 4.18                                & 3.4                                \\\\\n",
       "\t                                   &                                   &                                   &                                   &                                   &                                   &                                   &                                   &                                   &                                   & ...                               &                                   &                                   &                                   &                                   &                                   &                                   &                                   &                                   &                                   &                                  \\\\\n",
       "\\end{tabular}\n"
      ],
      "text/markdown": [
       "\n",
       "| Category | Item | X2003 | X2004 | X2005 | X2006 | X2007 | X2008 | X2009 | X2010 | ... | Oct.03 | Sep.03 | Aug.03 | Jul.03 | Jun.03 | May.03 | Apr.03 | Mar.03 | Feb.03 | Jan.03 |\n",
       "|---|---|---|---|---|---|---|---|---|---|---|---|---|---|---|---|---|---|---|---|---|\n",
       "|                                   |                                   |                                   |                                   |                                   |                                   |                                   |                                   |                                   |                                   | ...                               |                                   |                                   |                                   |                                   |                                   |                                   |                                   |                                   |                                   |                                   |\n",
       "| 200/301                           | Imports from the world ($)        | 277,430,029                       | 415,842,557                       | 414,534,831                       | 372,199,929                       | 289,041,401                       | 279,894,752                       | 226,077,990                       | 280,791,228                       | ...                               | 23,495,184                        | 23,771,968                        | 23,282,649                        | 25,092,423                        | 25,120,897                        | 24,815,030                        | 23,481,272                        | 22,836,845                        | 19,523,163                        | 18,821,608                        |\n",
       "| 200/301                           | Imports from China ($)            | 8,984,223                         | 16,395,205                        | 28,310,203                        | 18,401,779                        | 12,724,670                        | 16,461,879                        | 14,817,764                        | 23,676,756                        | ...                               | 925,311                           | 743,319                           | 1,002,834                         | 1,209,634                         | 720,384                           | 663,289                           | 734,490                           | 466,547                           | 627,371                           | 496,201                           |\n",
       "| 200/301                           | China share (percent)             | 3.2                               | 3.9                               | 6.8                               | 4.9                               | 4.4                               | 5.9                               | 6.6                               | 8.4                               | ...                               | 3.9                               | 3.1                               | 4.3                               | 4.8                               | 2.9                               | 2.7                               | 3.1                               | 2                                 | 3.2                               | 2.6                               |\n",
       "|                                   |                                   |                                   |                                   |                                   |                                   |                                   |                                   |                                   |                                   | ...                               |                                   |                                   |                                   |                                   |                                   |                                   |                                   |                                   |                                   |                                   |\n",
       "| 200/301                           | World quantity (kilograms)        | 66,666,546                        | 85,222,969                        | 91,082,387                        | 87,310,277                        | 60,203,116                        | 55,425,586                        | 40,456,599                        | 45,495,025                        | ...                               | 5,844,903                         | 5,722,542                         | 5,989,484                         | 6,591,494                         | 6,230,411                         | 5,976,049                         | 5,645,941                         | 5,250,181                         | 4,676,217                         | 4,274,614                         |\n",
       "| 200/301                           | Quantity from China (kilograms)   | 2,416,042                         | 3,067,676                         | 6,949,753                         | 3,813,085                         | 2,701,794                         | 3,599,327                         | 2,946,804                         | 4,901,616                         | ...                               | 237,210                           | 199,220                           | 259,855                           | 373,204                           | 209,326                           | 160,613                           | 215,321                           | 147,631                           | 149,992                           | 145,931                           |\n",
       "| 200/301                           | China quantity share (percent)    | 3.6                               | 3.6                               | 7.6                               | 4.4                               | 4.5                               | 6.5                               | 7.3                               | 10.8                              | ...                               | 4.1                               | 3.5                               | 4.3                               | 5.7                               | 3.4                               | 2.7                               | 3.8                               | 2.8                               | 3.2                               | 3.4                               |\n",
       "|                                   |                                   |                                   |                                   |                                   |                                   |                                   |                                   |                                   |                                   | ...                               |                                   |                                   |                                   |                                   |                                   |                                   |                                   |                                   |                                   |                                   |\n",
       "| 200/301                           | World unit value ($ per kilogram) | 4.16                              | 4.88                              | 4.55                              | 4.26                              | 4.8                               | 5.05                              | 5.59                              | 6.17                              | ...                               | 4.02                              | 4.15                              | 3.89                              | 3.81                              | 4.03                              | 4.15                              | 4.16                              | 4.35                              | 4.17                              | 4.4                               |\n",
       "| 200/301                           | China unit value ($ per kilogram) | 3.72                              | 5.34                              | 4.07                              | 4.83                              | 4.71                              | 4.57                              | 5.03                              | 4.83                              | ...                               | 3.9                               | 3.73                              | 3.86                              | 3.24                              | 3.44                              | 4.13                              | 3.41                              | 3.16                              | 4.18                              | 3.4                               |\n",
       "|                                   |                                   |                                   |                                   |                                   |                                   |                                   |                                   |                                   |                                   | ...                               |                                   |                                   |                                   |                                   |                                   |                                   |                                   |                                   |                                   |                                   |\n",
       "\n"
      ],
      "text/plain": [
       "   Category Item                              X2003       X2004      \n",
       "1                                                                    \n",
       "2  200/301  Imports from the world ($)        277,430,029 415,842,557\n",
       "3  200/301  Imports from China ($)            8,984,223   16,395,205 \n",
       "4  200/301  China share (percent)             3.2         3.9        \n",
       "5                                                                    \n",
       "6  200/301  World quantity (kilograms)        66,666,546  85,222,969 \n",
       "7  200/301  Quantity from China (kilograms)   2,416,042   3,067,676  \n",
       "8  200/301  China quantity share (percent)    3.6         3.6        \n",
       "9                                                                    \n",
       "10 200/301  World unit value ($ per kilogram) 4.16        4.88       \n",
       "11 200/301  China unit value ($ per kilogram) 3.72        5.34       \n",
       "12                                                                   \n",
       "   X2005       X2006       X2007       X2008       X2009       X2010       ...\n",
       "1                                                                          ...\n",
       "2  414,534,831 372,199,929 289,041,401 279,894,752 226,077,990 280,791,228 ...\n",
       "3  28,310,203  18,401,779  12,724,670  16,461,879  14,817,764  23,676,756  ...\n",
       "4  6.8         4.9         4.4         5.9         6.6         8.4         ...\n",
       "5                                                                          ...\n",
       "6  91,082,387  87,310,277  60,203,116  55,425,586  40,456,599  45,495,025  ...\n",
       "7  6,949,753   3,813,085   2,701,794   3,599,327   2,946,804   4,901,616   ...\n",
       "8  7.6         4.4         4.5         6.5         7.3         10.8        ...\n",
       "9                                                                          ...\n",
       "10 4.55        4.26        4.8         5.05        5.59        6.17        ...\n",
       "11 4.07        4.83        4.71        4.57        5.03        4.83        ...\n",
       "12                                                                         ...\n",
       "   Oct.03     Sep.03     Aug.03     Jul.03     Jun.03     May.03     Apr.03    \n",
       "1                                                                              \n",
       "2  23,495,184 23,771,968 23,282,649 25,092,423 25,120,897 24,815,030 23,481,272\n",
       "3  925,311    743,319    1,002,834  1,209,634  720,384    663,289    734,490   \n",
       "4  3.9        3.1        4.3        4.8        2.9        2.7        3.1       \n",
       "5                                                                              \n",
       "6  5,844,903  5,722,542  5,989,484  6,591,494  6,230,411  5,976,049  5,645,941 \n",
       "7  237,210    199,220    259,855    373,204    209,326    160,613    215,321   \n",
       "8  4.1        3.5        4.3        5.7        3.4        2.7        3.8       \n",
       "9                                                                              \n",
       "10 4.02       4.15       3.89       3.81       4.03       4.15       4.16      \n",
       "11 3.9        3.73       3.86       3.24       3.44       4.13       3.41      \n",
       "12                                                                             \n",
       "   Mar.03     Feb.03     Jan.03    \n",
       "1                                  \n",
       "2  22,836,845 19,523,163 18,821,608\n",
       "3  466,547    627,371    496,201   \n",
       "4  2          3.2        2.6       \n",
       "5                                  \n",
       "6  5,250,181  4,676,217  4,274,614 \n",
       "7  147,631    149,992    145,931   \n",
       "8  2.8        3.2        3.4       \n",
       "9                                  \n",
       "10 4.35       4.17       4.4       \n",
       "11 3.16       4.18       3.4       \n",
       "12                                 "
      ]
     },
     "metadata": {},
     "output_type": "display_data"
    }
   ],
   "source": [
    "#printing first 20 rows\n",
    "head(data, 12)"
   ]
  },
  {
   "cell_type": "markdown",
   "metadata": {},
   "source": [
    "We can see that the above table contains information about textile imports that are arranged according to categories and year. It also distinguishes amount of imports from world and china. For our analysis, we only need imports in dollars."
   ]
  },
  {
   "cell_type": "markdown",
   "metadata": {},
   "source": [
    "### Data Exploration(2/4)"
   ]
  },
  {
   "cell_type": "code",
   "execution_count": 5,
   "metadata": {},
   "outputs": [
    {
     "data": {
      "text/html": [
       "<table>\n",
       "<thead><tr><th scope=col>Category</th><th scope=col>Item</th><th scope=col>X2003</th><th scope=col>X2004</th><th scope=col>X2005</th><th scope=col>X2006</th><th scope=col>X2007</th><th scope=col>X2008</th><th scope=col>X2009</th><th scope=col>X2010</th><th scope=col>X2011</th><th scope=col>X2012</th><th scope=col>X2013</th><th scope=col>X2014</th><th scope=col>X2015</th><th scope=col>X2016</th><th scope=col>X2017</th><th scope=col>X2018</th><th scope=col>X2019</th></tr></thead>\n",
       "<tbody>\n",
       "\t<tr><td>200/301                                  </td><td>Imports from the world ($)               </td><td>277,430,029                              </td><td>415,842,557                              </td><td>414,534,831                              </td><td>372,199,929                              </td><td>289,041,401                              </td><td>279,894,752                              </td><td>226,077,990                              </td><td>280,791,228                              </td><td>298,672,712                              </td><td>280,739,873                              </td><td>310,345,671                              </td><td>302,598,547                              </td><td>304,875,585                              </td><td>258,294,284                              </td><td>267,937,460                              </td><td>284,468,926                              </td><td>241,519,107                              </td></tr>\n",
       "\t<tr><td>200/301                                  </td><td>Imports from China ($)                   </td><td>8,984,223                                </td><td>16,395,205                               </td><td>28,310,203                               </td><td>18,401,779                               </td><td>12,724,670                               </td><td>16,461,879                               </td><td>14,817,764                               </td><td>23,676,756                               </td><td>28,385,492                               </td><td>38,796,069                               </td><td>56,022,057                               </td><td>39,453,680                               </td><td>41,977,880                               </td><td>39,118,205                               </td><td>44,728,677                               </td><td>60,433,950                               </td><td>43,633,421                               </td></tr>\n",
       "\t<tr><td>222                                      </td><td>Imports from the world ($)               </td><td>784,634,904                              </td><td>742,935,566                              </td><td>746,187,183                              </td><td>739,609,652                              </td><td>608,743,785                              </td><td>492,052,643                              </td><td>417,633,208                              </td><td>491,395,780                              </td><td>582,081,068                              </td><td>651,605,099                              </td><td>685,556,751                              </td><td>736,583,989                              </td><td>743,856,690                              </td><td>739,876,438                              </td><td>698,680,361                              </td><td>731,426,998                              </td><td>640,534,798                              </td></tr>\n",
       "\t<tr><td>222                                      </td><td>Imports from China ($)                   </td><td>42,833,655                               </td><td>46,337,000                               </td><td>73,590,660                               </td><td>60,714,696                               </td><td>62,595,686                               </td><td>63,886,401                               </td><td>105,862,106                              </td><td>148,340,338                              </td><td>206,270,402                              </td><td>278,787,432                              </td><td>312,989,813                              </td><td>320,097,103                              </td><td>343,506,586                              </td><td>351,277,976                              </td><td>313,000,481                              </td><td>317,651,304                              </td><td>220,567,928                              </td></tr>\n",
       "\t<tr><td>229                                      </td><td>Imports from the world ($)               </td><td>778,245,261                              </td><td>878,593,955                              </td><td>974,096,414                              </td><td>888,992,331                              </td><td>892,619,631                              </td><td>908,657,541                              </td><td>788,279,175                              </td><td>1,000,862,014                            </td><td>1,182,651,357                            </td><td>1,230,552,372                            </td><td>1,267,983,490                            </td><td>1,355,100,992                            </td><td>1,411,539,731                            </td><td>1,404,754,824                            </td><td>1,437,437,235                            </td><td>1,560,186,828                            </td><td>1,500,228,995                            </td></tr>\n",
       "\t<tr><td>229                                      </td><td>Imports from China ($)                   </td><td>63,862,852                               </td><td>122,362,635                              </td><td>174,253,750                              </td><td>112,067,212                              </td><td>100,525,706                              </td><td>128,890,120                              </td><td>119,087,104                              </td><td>145,205,662                              </td><td>206,755,287                              </td><td>258,846,802                              </td><td>281,228,389                              </td><td>316,523,948                              </td><td>370,854,783                              </td><td>390,369,320                              </td><td>409,974,889                              </td><td>453,144,037                              </td><td>319,019,446                              </td></tr>\n",
       "\t<tr><td>332/432/632-T/632-B (includes baby socks)</td><td>Imports from the world ($)               </td><td>616,583,182                              </td><td>706,418,460                              </td><td>744,022,166                              </td><td>849,604,077                              </td><td>1,388,750,004                            </td><td>1,440,144,046                            </td><td>1,383,172,851                            </td><td>1,670,418,233                            </td><td>1,749,325,037                            </td><td>1,821,655,463                            </td><td>1,902,802,631                            </td><td>2,003,342,109                            </td><td>2,183,183,687                            </td><td>1,962,245,180                            </td><td>2,022,250,417                            </td><td>2,128,603,647                            </td><td>2,156,672,701                            </td></tr>\n",
       "\t<tr><td>332/432/632-T/632-B (includes baby socks)</td><td>Imports from China ($)                   </td><td>8,493,539                                </td><td>12,744,469                               </td><td>38,189,334                               </td><td>80,042,190                               </td><td>383,587,377                              </td><td>442,834,895                              </td><td>538,730,469                              </td><td>692,666,040                              </td><td>800,371,131                              </td><td>944,786,162                              </td><td>1,058,571,395                            </td><td>1,092,421,189                            </td><td>1,271,775,298                            </td><td>1,184,395,528                            </td><td>1,216,729,716                            </td><td>1,351,588,513                            </td><td>1,368,602,234                            </td></tr>\n",
       "\t<tr><td>338/339                                  </td><td>Imports from the world ($)               </td><td>5,305,674,779                            </td><td>5,282,114,781                            </td><td>5,963,771,835                            </td><td>13,393,790,459                           </td><td>14,153,665,326                           </td><td>13,521,356,173                           </td><td>12,171,783,894                           </td><td>13,587,793,950                           </td><td>14,098,301,839                           </td><td>12,596,623,279                           </td><td>12,830,240,043                           </td><td>12,474,439,662                           </td><td>12,189,581,130                           </td><td>11,024,238,698                           </td><td>11,000,290,355                           </td><td>11,877,007,032                           </td><td>12,409,275,200                           </td></tr>\n",
       "\t<tr><td>338/339                                  </td><td>Imports from China ($)                   </td><td>92,748,655                               </td><td>96,717,389                               </td><td>324,077,440                              </td><td>851,642,337                              </td><td>1,255,548,181                            </td><td>1,317,452,469                            </td><td>2,495,292,410                            </td><td>3,288,215,347                            </td><td>3,279,471,023                            </td><td>3,044,799,325                            </td><td>3,142,878,540                            </td><td>2,841,469,166                            </td><td>2,595,106,615                            </td><td>2,194,076,683                            </td><td>2,177,751,102                            </td><td>2,273,532,466                            </td><td>1,954,839,330                            </td></tr>\n",
       "</tbody>\n",
       "</table>\n"
      ],
      "text/latex": [
       "\\begin{tabular}{r|lllllllllllllllllll}\n",
       " Category & Item & X2003 & X2004 & X2005 & X2006 & X2007 & X2008 & X2009 & X2010 & X2011 & X2012 & X2013 & X2014 & X2015 & X2016 & X2017 & X2018 & X2019\\\\\n",
       "\\hline\n",
       "\t 200/301                                   & Imports from the world (\\$)              & 277,430,029                               & 415,842,557                               & 414,534,831                               & 372,199,929                               & 289,041,401                               & 279,894,752                               & 226,077,990                               & 280,791,228                               & 298,672,712                               & 280,739,873                               & 310,345,671                               & 302,598,547                               & 304,875,585                               & 258,294,284                               & 267,937,460                               & 284,468,926                               & 241,519,107                              \\\\\n",
       "\t 200/301                                   & Imports from China (\\$)                  & 8,984,223                                 & 16,395,205                                & 28,310,203                                & 18,401,779                                & 12,724,670                                & 16,461,879                                & 14,817,764                                & 23,676,756                                & 28,385,492                                & 38,796,069                                & 56,022,057                                & 39,453,680                                & 41,977,880                                & 39,118,205                                & 44,728,677                                & 60,433,950                                & 43,633,421                               \\\\\n",
       "\t 222                                       & Imports from the world (\\$)              & 784,634,904                               & 742,935,566                               & 746,187,183                               & 739,609,652                               & 608,743,785                               & 492,052,643                               & 417,633,208                               & 491,395,780                               & 582,081,068                               & 651,605,099                               & 685,556,751                               & 736,583,989                               & 743,856,690                               & 739,876,438                               & 698,680,361                               & 731,426,998                               & 640,534,798                              \\\\\n",
       "\t 222                                       & Imports from China (\\$)                  & 42,833,655                                & 46,337,000                                & 73,590,660                                & 60,714,696                                & 62,595,686                                & 63,886,401                                & 105,862,106                               & 148,340,338                               & 206,270,402                               & 278,787,432                               & 312,989,813                               & 320,097,103                               & 343,506,586                               & 351,277,976                               & 313,000,481                               & 317,651,304                               & 220,567,928                              \\\\\n",
       "\t 229                                       & Imports from the world (\\$)              & 778,245,261                               & 878,593,955                               & 974,096,414                               & 888,992,331                               & 892,619,631                               & 908,657,541                               & 788,279,175                               & 1,000,862,014                             & 1,182,651,357                             & 1,230,552,372                             & 1,267,983,490                             & 1,355,100,992                             & 1,411,539,731                             & 1,404,754,824                             & 1,437,437,235                             & 1,560,186,828                             & 1,500,228,995                            \\\\\n",
       "\t 229                                       & Imports from China (\\$)                  & 63,862,852                                & 122,362,635                               & 174,253,750                               & 112,067,212                               & 100,525,706                               & 128,890,120                               & 119,087,104                               & 145,205,662                               & 206,755,287                               & 258,846,802                               & 281,228,389                               & 316,523,948                               & 370,854,783                               & 390,369,320                               & 409,974,889                               & 453,144,037                               & 319,019,446                              \\\\\n",
       "\t 332/432/632-T/632-B (includes baby socks) & Imports from the world (\\$)              & 616,583,182                               & 706,418,460                               & 744,022,166                               & 849,604,077                               & 1,388,750,004                             & 1,440,144,046                             & 1,383,172,851                             & 1,670,418,233                             & 1,749,325,037                             & 1,821,655,463                             & 1,902,802,631                             & 2,003,342,109                             & 2,183,183,687                             & 1,962,245,180                             & 2,022,250,417                             & 2,128,603,647                             & 2,156,672,701                            \\\\\n",
       "\t 332/432/632-T/632-B (includes baby socks) & Imports from China (\\$)                  & 8,493,539                                 & 12,744,469                                & 38,189,334                                & 80,042,190                                & 383,587,377                               & 442,834,895                               & 538,730,469                               & 692,666,040                               & 800,371,131                               & 944,786,162                               & 1,058,571,395                             & 1,092,421,189                             & 1,271,775,298                             & 1,184,395,528                             & 1,216,729,716                             & 1,351,588,513                             & 1,368,602,234                            \\\\\n",
       "\t 338/339                                   & Imports from the world (\\$)              & 5,305,674,779                             & 5,282,114,781                             & 5,963,771,835                             & 13,393,790,459                            & 14,153,665,326                            & 13,521,356,173                            & 12,171,783,894                            & 13,587,793,950                            & 14,098,301,839                            & 12,596,623,279                            & 12,830,240,043                            & 12,474,439,662                            & 12,189,581,130                            & 11,024,238,698                            & 11,000,290,355                            & 11,877,007,032                            & 12,409,275,200                           \\\\\n",
       "\t 338/339                                   & Imports from China (\\$)                  & 92,748,655                                & 96,717,389                                & 324,077,440                               & 851,642,337                               & 1,255,548,181                             & 1,317,452,469                             & 2,495,292,410                             & 3,288,215,347                             & 3,279,471,023                             & 3,044,799,325                             & 3,142,878,540                             & 2,841,469,166                             & 2,595,106,615                             & 2,194,076,683                             & 2,177,751,102                             & 2,273,532,466                             & 1,954,839,330                            \\\\\n",
       "\\end{tabular}\n"
      ],
      "text/markdown": [
       "\n",
       "| Category | Item | X2003 | X2004 | X2005 | X2006 | X2007 | X2008 | X2009 | X2010 | X2011 | X2012 | X2013 | X2014 | X2015 | X2016 | X2017 | X2018 | X2019 |\n",
       "|---|---|---|---|---|---|---|---|---|---|---|---|---|---|---|---|---|---|---|\n",
       "| 200/301                                   | Imports from the world ($)                | 277,430,029                               | 415,842,557                               | 414,534,831                               | 372,199,929                               | 289,041,401                               | 279,894,752                               | 226,077,990                               | 280,791,228                               | 298,672,712                               | 280,739,873                               | 310,345,671                               | 302,598,547                               | 304,875,585                               | 258,294,284                               | 267,937,460                               | 284,468,926                               | 241,519,107                               |\n",
       "| 200/301                                   | Imports from China ($)                    | 8,984,223                                 | 16,395,205                                | 28,310,203                                | 18,401,779                                | 12,724,670                                | 16,461,879                                | 14,817,764                                | 23,676,756                                | 28,385,492                                | 38,796,069                                | 56,022,057                                | 39,453,680                                | 41,977,880                                | 39,118,205                                | 44,728,677                                | 60,433,950                                | 43,633,421                                |\n",
       "| 222                                       | Imports from the world ($)                | 784,634,904                               | 742,935,566                               | 746,187,183                               | 739,609,652                               | 608,743,785                               | 492,052,643                               | 417,633,208                               | 491,395,780                               | 582,081,068                               | 651,605,099                               | 685,556,751                               | 736,583,989                               | 743,856,690                               | 739,876,438                               | 698,680,361                               | 731,426,998                               | 640,534,798                               |\n",
       "| 222                                       | Imports from China ($)                    | 42,833,655                                | 46,337,000                                | 73,590,660                                | 60,714,696                                | 62,595,686                                | 63,886,401                                | 105,862,106                               | 148,340,338                               | 206,270,402                               | 278,787,432                               | 312,989,813                               | 320,097,103                               | 343,506,586                               | 351,277,976                               | 313,000,481                               | 317,651,304                               | 220,567,928                               |\n",
       "| 229                                       | Imports from the world ($)                | 778,245,261                               | 878,593,955                               | 974,096,414                               | 888,992,331                               | 892,619,631                               | 908,657,541                               | 788,279,175                               | 1,000,862,014                             | 1,182,651,357                             | 1,230,552,372                             | 1,267,983,490                             | 1,355,100,992                             | 1,411,539,731                             | 1,404,754,824                             | 1,437,437,235                             | 1,560,186,828                             | 1,500,228,995                             |\n",
       "| 229                                       | Imports from China ($)                    | 63,862,852                                | 122,362,635                               | 174,253,750                               | 112,067,212                               | 100,525,706                               | 128,890,120                               | 119,087,104                               | 145,205,662                               | 206,755,287                               | 258,846,802                               | 281,228,389                               | 316,523,948                               | 370,854,783                               | 390,369,320                               | 409,974,889                               | 453,144,037                               | 319,019,446                               |\n",
       "| 332/432/632-T/632-B (includes baby socks) | Imports from the world ($)                | 616,583,182                               | 706,418,460                               | 744,022,166                               | 849,604,077                               | 1,388,750,004                             | 1,440,144,046                             | 1,383,172,851                             | 1,670,418,233                             | 1,749,325,037                             | 1,821,655,463                             | 1,902,802,631                             | 2,003,342,109                             | 2,183,183,687                             | 1,962,245,180                             | 2,022,250,417                             | 2,128,603,647                             | 2,156,672,701                             |\n",
       "| 332/432/632-T/632-B (includes baby socks) | Imports from China ($)                    | 8,493,539                                 | 12,744,469                                | 38,189,334                                | 80,042,190                                | 383,587,377                               | 442,834,895                               | 538,730,469                               | 692,666,040                               | 800,371,131                               | 944,786,162                               | 1,058,571,395                             | 1,092,421,189                             | 1,271,775,298                             | 1,184,395,528                             | 1,216,729,716                             | 1,351,588,513                             | 1,368,602,234                             |\n",
       "| 338/339                                   | Imports from the world ($)                | 5,305,674,779                             | 5,282,114,781                             | 5,963,771,835                             | 13,393,790,459                            | 14,153,665,326                            | 13,521,356,173                            | 12,171,783,894                            | 13,587,793,950                            | 14,098,301,839                            | 12,596,623,279                            | 12,830,240,043                            | 12,474,439,662                            | 12,189,581,130                            | 11,024,238,698                            | 11,000,290,355                            | 11,877,007,032                            | 12,409,275,200                            |\n",
       "| 338/339                                   | Imports from China ($)                    | 92,748,655                                | 96,717,389                                | 324,077,440                               | 851,642,337                               | 1,255,548,181                             | 1,317,452,469                             | 2,495,292,410                             | 3,288,215,347                             | 3,279,471,023                             | 3,044,799,325                             | 3,142,878,540                             | 2,841,469,166                             | 2,595,106,615                             | 2,194,076,683                             | 2,177,751,102                             | 2,273,532,466                             | 1,954,839,330                             |\n",
       "\n"
      ],
      "text/plain": [
       "   Category                                  Item                      \n",
       "1  200/301                                   Imports from the world ($)\n",
       "2  200/301                                   Imports from China ($)    \n",
       "3  222                                       Imports from the world ($)\n",
       "4  222                                       Imports from China ($)    \n",
       "5  229                                       Imports from the world ($)\n",
       "6  229                                       Imports from China ($)    \n",
       "7  332/432/632-T/632-B (includes baby socks) Imports from the world ($)\n",
       "8  332/432/632-T/632-B (includes baby socks) Imports from China ($)    \n",
       "9  338/339                                   Imports from the world ($)\n",
       "10 338/339                                   Imports from China ($)    \n",
       "   X2003         X2004         X2005         X2006          X2007         \n",
       "1  277,430,029   415,842,557   414,534,831   372,199,929    289,041,401   \n",
       "2  8,984,223     16,395,205    28,310,203    18,401,779     12,724,670    \n",
       "3  784,634,904   742,935,566   746,187,183   739,609,652    608,743,785   \n",
       "4  42,833,655    46,337,000    73,590,660    60,714,696     62,595,686    \n",
       "5  778,245,261   878,593,955   974,096,414   888,992,331    892,619,631   \n",
       "6  63,862,852    122,362,635   174,253,750   112,067,212    100,525,706   \n",
       "7  616,583,182   706,418,460   744,022,166   849,604,077    1,388,750,004 \n",
       "8  8,493,539     12,744,469    38,189,334    80,042,190     383,587,377   \n",
       "9  5,305,674,779 5,282,114,781 5,963,771,835 13,393,790,459 14,153,665,326\n",
       "10 92,748,655    96,717,389    324,077,440   851,642,337    1,255,548,181 \n",
       "   X2008          X2009          X2010          X2011          X2012         \n",
       "1  279,894,752    226,077,990    280,791,228    298,672,712    280,739,873   \n",
       "2  16,461,879     14,817,764     23,676,756     28,385,492     38,796,069    \n",
       "3  492,052,643    417,633,208    491,395,780    582,081,068    651,605,099   \n",
       "4  63,886,401     105,862,106    148,340,338    206,270,402    278,787,432   \n",
       "5  908,657,541    788,279,175    1,000,862,014  1,182,651,357  1,230,552,372 \n",
       "6  128,890,120    119,087,104    145,205,662    206,755,287    258,846,802   \n",
       "7  1,440,144,046  1,383,172,851  1,670,418,233  1,749,325,037  1,821,655,463 \n",
       "8  442,834,895    538,730,469    692,666,040    800,371,131    944,786,162   \n",
       "9  13,521,356,173 12,171,783,894 13,587,793,950 14,098,301,839 12,596,623,279\n",
       "10 1,317,452,469  2,495,292,410  3,288,215,347  3,279,471,023  3,044,799,325 \n",
       "   X2013          X2014          X2015          X2016          X2017         \n",
       "1  310,345,671    302,598,547    304,875,585    258,294,284    267,937,460   \n",
       "2  56,022,057     39,453,680     41,977,880     39,118,205     44,728,677    \n",
       "3  685,556,751    736,583,989    743,856,690    739,876,438    698,680,361   \n",
       "4  312,989,813    320,097,103    343,506,586    351,277,976    313,000,481   \n",
       "5  1,267,983,490  1,355,100,992  1,411,539,731  1,404,754,824  1,437,437,235 \n",
       "6  281,228,389    316,523,948    370,854,783    390,369,320    409,974,889   \n",
       "7  1,902,802,631  2,003,342,109  2,183,183,687  1,962,245,180  2,022,250,417 \n",
       "8  1,058,571,395  1,092,421,189  1,271,775,298  1,184,395,528  1,216,729,716 \n",
       "9  12,830,240,043 12,474,439,662 12,189,581,130 11,024,238,698 11,000,290,355\n",
       "10 3,142,878,540  2,841,469,166  2,595,106,615  2,194,076,683  2,177,751,102 \n",
       "   X2018          X2019         \n",
       "1  284,468,926    241,519,107   \n",
       "2  60,433,950     43,633,421    \n",
       "3  731,426,998    640,534,798   \n",
       "4  317,651,304    220,567,928   \n",
       "5  1,560,186,828  1,500,228,995 \n",
       "6  453,144,037    319,019,446   \n",
       "7  2,128,603,647  2,156,672,701 \n",
       "8  1,351,588,513  1,368,602,234 \n",
       "9  11,877,007,032 12,409,275,200\n",
       "10 2,273,532,466  1,954,839,330 "
      ]
     },
     "metadata": {},
     "output_type": "display_data"
    }
   ],
   "source": [
    "#import in dollars from world and china\n",
    "imports <- data %>% filter(Item %in% c(\"Imports from the world ($)\", \"Imports from China ($)\"))\n",
    "imports <- subset(imports[1:19])\n",
    "head(imports,10)"
   ]
  },
  {
   "cell_type": "markdown",
   "metadata": {},
   "source": [
    "Here, we have extracted all the rows which contain data about import in dollars from world and china"
   ]
  },
  {
   "cell_type": "markdown",
   "metadata": {},
   "source": [
    "### Data Exploration(3/4)"
   ]
  },
  {
   "cell_type": "code",
   "execution_count": 6,
   "metadata": {},
   "outputs": [
    {
     "data": {
      "text/html": [
       "<ol class=list-inline>\n",
       "\t<li>200/301</li>\n",
       "\t<li>200/301</li>\n",
       "\t<li>222</li>\n",
       "\t<li>222</li>\n",
       "\t<li>229</li>\n",
       "\t<li>229</li>\n",
       "\t<li>332/432/632-T/632-B (includes baby socks)</li>\n",
       "\t<li>332/432/632-T/632-B (includes baby socks)</li>\n",
       "\t<li>338/339</li>\n",
       "\t<li>338/339</li>\n",
       "\t<li>340/640</li>\n",
       "\t<li>340/640</li>\n",
       "\t<li>345/645/646</li>\n",
       "\t<li>345/645/646</li>\n",
       "\t<li>347/348</li>\n",
       "\t<li>347/348</li>\n",
       "\t<li>349/649</li>\n",
       "\t<li>349/649</li>\n",
       "\t<li>352/652</li>\n",
       "\t<li>352/652</li>\n",
       "\t<li>359-S/659-S</li>\n",
       "\t<li>359-S/659-S</li>\n",
       "\t<li>363</li>\n",
       "\t<li>363</li>\n",
       "\t<li>443</li>\n",
       "\t<li>443</li>\n",
       "\t<li>447</li>\n",
       "\t<li>447</li>\n",
       "\t<li>619</li>\n",
       "\t<li>619</li>\n",
       "\t<li>620</li>\n",
       "\t<li>620</li>\n",
       "\t<li>622</li>\n",
       "\t<li>622</li>\n",
       "\t<li>638/639</li>\n",
       "\t<li>638/639</li>\n",
       "\t<li>647/648</li>\n",
       "\t<li>647/648</li>\n",
       "\t<li>666</li>\n",
       "\t<li>666</li>\n",
       "\t<li>847</li>\n",
       "\t<li>847</li>\n",
       "</ol>\n",
       "\n",
       "<details>\n",
       "\t<summary style=display:list-item;cursor:pointer>\n",
       "\t\t<strong>Levels</strong>:\n",
       "\t</summary>\n",
       "\t<ol class=list-inline>\n",
       "\t\t<li>''</li>\n",
       "\t\t<li>'200/301'</li>\n",
       "\t\t<li>'222'</li>\n",
       "\t\t<li>'229'</li>\n",
       "\t\t<li>'332/432/632-T/632-B (includes baby socks)'</li>\n",
       "\t\t<li>'338/339'</li>\n",
       "\t\t<li>'340/640'</li>\n",
       "\t\t<li>'345/645/646'</li>\n",
       "\t\t<li>'347/348'</li>\n",
       "\t\t<li>'349/649'</li>\n",
       "\t\t<li>'352/652'</li>\n",
       "\t\t<li>'359-S/659-S'</li>\n",
       "\t\t<li>'363'</li>\n",
       "\t\t<li>'443'</li>\n",
       "\t\t<li>'447'</li>\n",
       "\t\t<li>'619'</li>\n",
       "\t\t<li>'620'</li>\n",
       "\t\t<li>'622'</li>\n",
       "\t\t<li>'638/639'</li>\n",
       "\t\t<li>'647/648'</li>\n",
       "\t\t<li>'666'</li>\n",
       "\t\t<li>'847'</li>\n",
       "\t</ol>\n",
       "</details>"
      ],
      "text/latex": [
       "\\begin{enumerate*}\n",
       "\\item 200/301\n",
       "\\item 200/301\n",
       "\\item 222\n",
       "\\item 222\n",
       "\\item 229\n",
       "\\item 229\n",
       "\\item 332/432/632-T/632-B (includes baby socks)\n",
       "\\item 332/432/632-T/632-B (includes baby socks)\n",
       "\\item 338/339\n",
       "\\item 338/339\n",
       "\\item 340/640\n",
       "\\item 340/640\n",
       "\\item 345/645/646\n",
       "\\item 345/645/646\n",
       "\\item 347/348\n",
       "\\item 347/348\n",
       "\\item 349/649\n",
       "\\item 349/649\n",
       "\\item 352/652\n",
       "\\item 352/652\n",
       "\\item 359-S/659-S\n",
       "\\item 359-S/659-S\n",
       "\\item 363\n",
       "\\item 363\n",
       "\\item 443\n",
       "\\item 443\n",
       "\\item 447\n",
       "\\item 447\n",
       "\\item 619\n",
       "\\item 619\n",
       "\\item 620\n",
       "\\item 620\n",
       "\\item 622\n",
       "\\item 622\n",
       "\\item 638/639\n",
       "\\item 638/639\n",
       "\\item 647/648\n",
       "\\item 647/648\n",
       "\\item 666\n",
       "\\item 666\n",
       "\\item 847\n",
       "\\item 847\n",
       "\\end{enumerate*}\n",
       "\n",
       "\\emph{Levels}: \\begin{enumerate*}\n",
       "\\item ''\n",
       "\\item '200/301'\n",
       "\\item '222'\n",
       "\\item '229'\n",
       "\\item '332/432/632-T/632-B (includes baby socks)'\n",
       "\\item '338/339'\n",
       "\\item '340/640'\n",
       "\\item '345/645/646'\n",
       "\\item '347/348'\n",
       "\\item '349/649'\n",
       "\\item '352/652'\n",
       "\\item '359-S/659-S'\n",
       "\\item '363'\n",
       "\\item '443'\n",
       "\\item '447'\n",
       "\\item '619'\n",
       "\\item '620'\n",
       "\\item '622'\n",
       "\\item '638/639'\n",
       "\\item '647/648'\n",
       "\\item '666'\n",
       "\\item '847'\n",
       "\\end{enumerate*}\n"
      ],
      "text/markdown": [
       "1. 200/301\n",
       "2. 200/301\n",
       "3. 222\n",
       "4. 222\n",
       "5. 229\n",
       "6. 229\n",
       "7. 332/432/632-T/632-B (includes baby socks)\n",
       "8. 332/432/632-T/632-B (includes baby socks)\n",
       "9. 338/339\n",
       "10. 338/339\n",
       "11. 340/640\n",
       "12. 340/640\n",
       "13. 345/645/646\n",
       "14. 345/645/646\n",
       "15. 347/348\n",
       "16. 347/348\n",
       "17. 349/649\n",
       "18. 349/649\n",
       "19. 352/652\n",
       "20. 352/652\n",
       "21. 359-S/659-S\n",
       "22. 359-S/659-S\n",
       "23. 363\n",
       "24. 363\n",
       "25. 443\n",
       "26. 443\n",
       "27. 447\n",
       "28. 447\n",
       "29. 619\n",
       "30. 619\n",
       "31. 620\n",
       "32. 620\n",
       "33. 622\n",
       "34. 622\n",
       "35. 638/639\n",
       "36. 638/639\n",
       "37. 647/648\n",
       "38. 647/648\n",
       "39. 666\n",
       "40. 666\n",
       "41. 847\n",
       "42. 847\n",
       "\n",
       "\n",
       "\n",
       "**Levels**: 1. ''\n",
       "2. '200/301'\n",
       "3. '222'\n",
       "4. '229'\n",
       "5. '332/432/632-T/632-B (includes baby socks)'\n",
       "6. '338/339'\n",
       "7. '340/640'\n",
       "8. '345/645/646'\n",
       "9. '347/348'\n",
       "10. '349/649'\n",
       "11. '352/652'\n",
       "12. '359-S/659-S'\n",
       "13. '363'\n",
       "14. '443'\n",
       "15. '447'\n",
       "16. '619'\n",
       "17. '620'\n",
       "18. '622'\n",
       "19. '638/639'\n",
       "20. '647/648'\n",
       "21. '666'\n",
       "22. '847'\n",
       "\n",
       "\n"
      ],
      "text/plain": [
       " [1] 200/301                                  \n",
       " [2] 200/301                                  \n",
       " [3] 222                                      \n",
       " [4] 222                                      \n",
       " [5] 229                                      \n",
       " [6] 229                                      \n",
       " [7] 332/432/632-T/632-B (includes baby socks)\n",
       " [8] 332/432/632-T/632-B (includes baby socks)\n",
       " [9] 338/339                                  \n",
       "[10] 338/339                                  \n",
       "[11] 340/640                                  \n",
       "[12] 340/640                                  \n",
       "[13] 345/645/646                              \n",
       "[14] 345/645/646                              \n",
       "[15] 347/348                                  \n",
       "[16] 347/348                                  \n",
       "[17] 349/649                                  \n",
       "[18] 349/649                                  \n",
       "[19] 352/652                                  \n",
       "[20] 352/652                                  \n",
       "[21] 359-S/659-S                              \n",
       "[22] 359-S/659-S                              \n",
       "[23] 363                                      \n",
       "[24] 363                                      \n",
       "[25] 443                                      \n",
       "[26] 443                                      \n",
       "[27] 447                                      \n",
       "[28] 447                                      \n",
       "[29] 619                                      \n",
       "[30] 619                                      \n",
       "[31] 620                                      \n",
       "[32] 620                                      \n",
       "[33] 622                                      \n",
       "[34] 622                                      \n",
       "[35] 638/639                                  \n",
       "[36] 638/639                                  \n",
       "[37] 647/648                                  \n",
       "[38] 647/648                                  \n",
       "[39] 666                                      \n",
       "[40] 666                                      \n",
       "[41] 847                                      \n",
       "[42] 847                                      \n",
       "22 Levels:  200/301 222 229 ... 847"
      ]
     },
     "metadata": {},
     "output_type": "display_data"
    }
   ],
   "source": [
    "imports[,1]"
   ]
  },
  {
   "cell_type": "markdown",
   "metadata": {},
   "source": [
    "Here, we can see different categories of materials that are imported"
   ]
  },
  {
   "cell_type": "markdown",
   "metadata": {},
   "source": [
    "### Data Exploration(4/4)"
   ]
  },
  {
   "cell_type": "code",
   "execution_count": 7,
   "metadata": {},
   "outputs": [
    {
     "name": "stdout",
     "output_type": "stream",
     "text": [
      "'data.frame':\t42 obs. of  19 variables:\n",
      " $ Category: Factor w/ 22 levels \"\",\"200/301\",\"222\",..: 2 2 3 3 4 4 5 5 6 6 ...\n",
      " $ Item    : Factor w/ 25 levels \"\",\"China quantity share (percent)\",..: 10 9 10 9 10 9 10 9 10 9 ...\n",
      " $ X2003   : Factor w/ 157 levels \"\",\"0\",\"0.37\",..: 61 141 138 85 136 118 116 139 92 154 ...\n",
      " $ X2004   : Factor w/ 157 levels \"\",\"0\",\"0.71\",..: 98 47 141 102 152 35 138 32 109 157 ...\n",
      " $ X2005   : Factor w/ 157 levels \"\",\"0\",\"0.46\",..: 96 67 142 139 157 45 141 91 104 82 ...\n",
      " $ X2006   : Factor w/ 163 levels \"\",\"0.54\",\"0.55\",..: 87 52 137 123 156 23 152 148 31 153 ...\n",
      " $ X2007   : Factor w/ 167 levels \"\",\"0.63\",\"0.64\",..: 75 28 127 128 162 22 10 89 36 5 ...\n",
      " $ X2008   : Factor w/ 168 levels \"\",\"0.53\",\"0.6\",..: 77 45 108 132 167 31 9 103 34 7 ...\n",
      " $ X2009   : Factor w/ 166 levels \"\",\"0.47\",\"0.5\",..: 60 36 104 18 152 27 10 123 28 50 ...\n",
      " $ X2010   : Factor w/ 166 levels \"\",\"0.48\",\"0.67\",..: 73 60 120 33 5 32 10 142 26 79 ...\n",
      " $ X2011   : Factor w/ 168 levels \"\",\"0.5\",\"0.55\",..: 85 77 135 58 10 59 14 155 32 86 ...\n",
      " $ X2012   : Factor w/ 168 levels \"\",\"0.48\",\"0.53\",..: 73 101 143 71 11 68 15 166 22 78 ...\n",
      " $ X2013   : Factor w/ 165 levels \"\",\"0.47\",\"0.51\",..: 87 128 144 88 11 73 16 6 23 76 ...\n",
      " $ X2014   : Factor w/ 167 levels \"\",\"0.43\",\"0.5\",..: 90 102 154 95 11 92 50 8 23 52 ...\n",
      " $ X2015   : Factor w/ 167 levels \"\",\"0.48\",\"0.49\",..: 89 107 153 96 14 100 50 11 23 51 ...\n",
      " $ X2016   : Factor w/ 167 levels \"\",\"0.46\",\"0.47\",..: 70 101 152 95 12 104 15 7 18 49 ...\n",
      " $ X2017   : Factor w/ 169 levels \"\",\"0.48\",\"0.51\",..: 78 115 152 92 14 111 50 12 21 51 ...\n",
      " $ X2018   : Factor w/ 166 levels \"\",\"0.49\",\"0.54\",..: 79 137 151 89 14 116 46 12 22 47 ...\n",
      " $ X2019   : Factor w/ 168 levels \"\",\"0.49\",\"0.53\",..: 72 113 146 65 13 91 54 11 23 16 ...\n"
     ]
    }
   ],
   "source": [
    "#Sturcture of data\n",
    "str(imports)"
   ]
  },
  {
   "cell_type": "markdown",
   "metadata": {},
   "source": [
    "Here, we can see that all the column types are factors. So we need to convert them to numeric form"
   ]
  },
  {
   "cell_type": "markdown",
   "metadata": {},
   "source": [
    "### Data Cleaning"
   ]
  },
  {
   "cell_type": "code",
   "execution_count": 17,
   "metadata": {},
   "outputs": [
    {
     "data": {
      "text/html": [
       "<table>\n",
       "<thead><tr><th scope=col>Category</th><th scope=col>Item</th><th scope=col>X2003</th><th scope=col>X2004</th><th scope=col>X2005</th><th scope=col>X2006</th><th scope=col>X2007</th><th scope=col>X2008</th><th scope=col>X2009</th><th scope=col>X2010</th><th scope=col>X2011</th><th scope=col>X2012</th><th scope=col>X2013</th><th scope=col>X2014</th><th scope=col>X2015</th><th scope=col>X2016</th><th scope=col>X2017</th><th scope=col>X2018</th><th scope=col>X2019</th></tr></thead>\n",
       "<tbody>\n",
       "\t<tr><td>200/301                   </td><td>Imports from the world ($)</td><td>277430029                 </td><td>415842557                 </td><td>414534831                 </td><td>372199929                 </td><td>289041401                 </td><td>279894752                 </td><td>226077990                 </td><td> 280791228                </td><td> 298672712                </td><td> 280739873                </td><td> 310345671                </td><td> 302598547                </td><td> 304875585                </td><td> 258294284                </td><td> 267937460                </td><td> 284468926                </td><td> 241519107                </td></tr>\n",
       "\t<tr><td>200/301                   </td><td>Imports from China ($)    </td><td>  8984223                 </td><td> 16395205                 </td><td> 28310203                 </td><td> 18401779                 </td><td> 12724670                 </td><td> 16461879                 </td><td> 14817764                 </td><td>  23676756                </td><td>  28385492                </td><td>  38796069                </td><td>  56022057                </td><td>  39453680                </td><td>  41977880                </td><td>  39118205                </td><td>  44728677                </td><td>  60433950                </td><td>  43633421                </td></tr>\n",
       "\t<tr><td>222                       </td><td>Imports from the world ($)</td><td>784634904                 </td><td>742935566                 </td><td>746187183                 </td><td>739609652                 </td><td>608743785                 </td><td>492052643                 </td><td>417633208                 </td><td> 491395780                </td><td> 582081068                </td><td> 651605099                </td><td> 685556751                </td><td> 736583989                </td><td> 743856690                </td><td> 739876438                </td><td> 698680361                </td><td> 731426998                </td><td> 640534798                </td></tr>\n",
       "\t<tr><td>222                       </td><td>Imports from China ($)    </td><td> 42833655                 </td><td> 46337000                 </td><td> 73590660                 </td><td> 60714696                 </td><td> 62595686                 </td><td> 63886401                 </td><td>105862106                 </td><td> 148340338                </td><td> 206270402                </td><td> 278787432                </td><td> 312989813                </td><td> 320097103                </td><td> 343506586                </td><td> 351277976                </td><td> 313000481                </td><td> 317651304                </td><td> 220567928                </td></tr>\n",
       "\t<tr><td>229                       </td><td>Imports from the world ($)</td><td>778245261                 </td><td>878593955                 </td><td>974096414                 </td><td>888992331                 </td><td>892619631                 </td><td>908657541                 </td><td>788279175                 </td><td>1000862014                </td><td>1182651357                </td><td>1230552372                </td><td>1267983490                </td><td>1355100992                </td><td>1411539731                </td><td>1404754824                </td><td>1437437235                </td><td>1560186828                </td><td>1500228995                </td></tr>\n",
       "\t<tr><td>229                       </td><td>Imports from China ($)    </td><td> 63862852                 </td><td>122362635                 </td><td>174253750                 </td><td>112067212                 </td><td>100525706                 </td><td>128890120                 </td><td>119087104                 </td><td> 145205662                </td><td> 206755287                </td><td> 258846802                </td><td> 281228389                </td><td> 316523948                </td><td> 370854783                </td><td> 390369320                </td><td> 409974889                </td><td> 453144037                </td><td> 319019446                </td></tr>\n",
       "</tbody>\n",
       "</table>\n"
      ],
      "text/latex": [
       "\\begin{tabular}{r|lllllllllllllllllll}\n",
       " Category & Item & X2003 & X2004 & X2005 & X2006 & X2007 & X2008 & X2009 & X2010 & X2011 & X2012 & X2013 & X2014 & X2015 & X2016 & X2017 & X2018 & X2019\\\\\n",
       "\\hline\n",
       "\t 200/301                      & Imports from the world (\\$) & 277430029                    & 415842557                    & 414534831                    & 372199929                    & 289041401                    & 279894752                    & 226077990                    &  280791228                   &  298672712                   &  280739873                   &  310345671                   &  302598547                   &  304875585                   &  258294284                   &  267937460                   &  284468926                   &  241519107                  \\\\\n",
       "\t 200/301                      & Imports from China (\\$)     &   8984223                    &  16395205                    &  28310203                    &  18401779                    &  12724670                    &  16461879                    &  14817764                    &   23676756                   &   28385492                   &   38796069                   &   56022057                   &   39453680                   &   41977880                   &   39118205                   &   44728677                   &   60433950                   &   43633421                  \\\\\n",
       "\t 222                          & Imports from the world (\\$) & 784634904                    & 742935566                    & 746187183                    & 739609652                    & 608743785                    & 492052643                    & 417633208                    &  491395780                   &  582081068                   &  651605099                   &  685556751                   &  736583989                   &  743856690                   &  739876438                   &  698680361                   &  731426998                   &  640534798                  \\\\\n",
       "\t 222                          & Imports from China (\\$)     &  42833655                    &  46337000                    &  73590660                    &  60714696                    &  62595686                    &  63886401                    & 105862106                    &  148340338                   &  206270402                   &  278787432                   &  312989813                   &  320097103                   &  343506586                   &  351277976                   &  313000481                   &  317651304                   &  220567928                  \\\\\n",
       "\t 229                          & Imports from the world (\\$) & 778245261                    & 878593955                    & 974096414                    & 888992331                    & 892619631                    & 908657541                    & 788279175                    & 1000862014                   & 1182651357                   & 1230552372                   & 1267983490                   & 1355100992                   & 1411539731                   & 1404754824                   & 1437437235                   & 1560186828                   & 1500228995                  \\\\\n",
       "\t 229                          & Imports from China (\\$)     &  63862852                    & 122362635                    & 174253750                    & 112067212                    & 100525706                    & 128890120                    & 119087104                    &  145205662                   &  206755287                   &  258846802                   &  281228389                   &  316523948                   &  370854783                   &  390369320                   &  409974889                   &  453144037                   &  319019446                  \\\\\n",
       "\\end{tabular}\n"
      ],
      "text/markdown": [
       "\n",
       "| Category | Item | X2003 | X2004 | X2005 | X2006 | X2007 | X2008 | X2009 | X2010 | X2011 | X2012 | X2013 | X2014 | X2015 | X2016 | X2017 | X2018 | X2019 |\n",
       "|---|---|---|---|---|---|---|---|---|---|---|---|---|---|---|---|---|---|---|\n",
       "| 200/301                    | Imports from the world ($) | 277430029                  | 415842557                  | 414534831                  | 372199929                  | 289041401                  | 279894752                  | 226077990                  |  280791228                 |  298672712                 |  280739873                 |  310345671                 |  302598547                 |  304875585                 |  258294284                 |  267937460                 |  284468926                 |  241519107                 |\n",
       "| 200/301                    | Imports from China ($)     |   8984223                  |  16395205                  |  28310203                  |  18401779                  |  12724670                  |  16461879                  |  14817764                  |   23676756                 |   28385492                 |   38796069                 |   56022057                 |   39453680                 |   41977880                 |   39118205                 |   44728677                 |   60433950                 |   43633421                 |\n",
       "| 222                        | Imports from the world ($) | 784634904                  | 742935566                  | 746187183                  | 739609652                  | 608743785                  | 492052643                  | 417633208                  |  491395780                 |  582081068                 |  651605099                 |  685556751                 |  736583989                 |  743856690                 |  739876438                 |  698680361                 |  731426998                 |  640534798                 |\n",
       "| 222                        | Imports from China ($)     |  42833655                  |  46337000                  |  73590660                  |  60714696                  |  62595686                  |  63886401                  | 105862106                  |  148340338                 |  206270402                 |  278787432                 |  312989813                 |  320097103                 |  343506586                 |  351277976                 |  313000481                 |  317651304                 |  220567928                 |\n",
       "| 229                        | Imports from the world ($) | 778245261                  | 878593955                  | 974096414                  | 888992331                  | 892619631                  | 908657541                  | 788279175                  | 1000862014                 | 1182651357                 | 1230552372                 | 1267983490                 | 1355100992                 | 1411539731                 | 1404754824                 | 1437437235                 | 1560186828                 | 1500228995                 |\n",
       "| 229                        | Imports from China ($)     |  63862852                  | 122362635                  | 174253750                  | 112067212                  | 100525706                  | 128890120                  | 119087104                  |  145205662                 |  206755287                 |  258846802                 |  281228389                 |  316523948                 |  370854783                 |  390369320                 |  409974889                 |  453144037                 |  319019446                 |\n",
       "\n"
      ],
      "text/plain": [
       "  Category Item                       X2003     X2004     X2005     X2006    \n",
       "1 200/301  Imports from the world ($) 277430029 415842557 414534831 372199929\n",
       "2 200/301  Imports from China ($)       8984223  16395205  28310203  18401779\n",
       "3 222      Imports from the world ($) 784634904 742935566 746187183 739609652\n",
       "4 222      Imports from China ($)      42833655  46337000  73590660  60714696\n",
       "5 229      Imports from the world ($) 778245261 878593955 974096414 888992331\n",
       "6 229      Imports from China ($)      63862852 122362635 174253750 112067212\n",
       "  X2007     X2008     X2009     X2010      X2011      X2012      X2013     \n",
       "1 289041401 279894752 226077990  280791228  298672712  280739873  310345671\n",
       "2  12724670  16461879  14817764   23676756   28385492   38796069   56022057\n",
       "3 608743785 492052643 417633208  491395780  582081068  651605099  685556751\n",
       "4  62595686  63886401 105862106  148340338  206270402  278787432  312989813\n",
       "5 892619631 908657541 788279175 1000862014 1182651357 1230552372 1267983490\n",
       "6 100525706 128890120 119087104  145205662  206755287  258846802  281228389\n",
       "  X2014      X2015      X2016      X2017      X2018      X2019     \n",
       "1  302598547  304875585  258294284  267937460  284468926  241519107\n",
       "2   39453680   41977880   39118205   44728677   60433950   43633421\n",
       "3  736583989  743856690  739876438  698680361  731426998  640534798\n",
       "4  320097103  343506586  351277976  313000481  317651304  220567928\n",
       "5 1355100992 1411539731 1404754824 1437437235 1560186828 1500228995\n",
       "6  316523948  370854783  390369320  409974889  453144037  319019446"
      ]
     },
     "metadata": {},
     "output_type": "display_data"
    }
   ],
   "source": [
    "req_data <- imports\n",
    "req_data$X2003 <- as.numeric(gsub(\",\",\"\",req_data$X2003))\n",
    "req_data$X2004 <- as.numeric(gsub(\",\",\"\",req_data$X2004))\n",
    "req_data$X2005 <- as.numeric(gsub(\",\",\"\",req_data$X2005))\n",
    "req_data$X2006 <- as.numeric(gsub(\",\",\"\",req_data$X2006))\n",
    "req_data$X2007 <- as.numeric(gsub(\",\",\"\",req_data$X2007))\n",
    "req_data$X2008 <- as.numeric(gsub(\",\",\"\",req_data$X2008))\n",
    "req_data$X2009 <- as.numeric(gsub(\",\",\"\",req_data$X2009))\n",
    "req_data$X2010 <- as.numeric(gsub(\",\",\"\",req_data$X2010))\n",
    "req_data$X2011 <- as.numeric(gsub(\",\",\"\",req_data$X2011))\n",
    "req_data$X2012 <- as.numeric(gsub(\",\",\"\",req_data$X2012))\n",
    "req_data$X2013 <- as.numeric(gsub(\",\",\"\",req_data$X2013))\n",
    "req_data$X2014 <- as.numeric(gsub(\",\",\"\",req_data$X2014))\n",
    "req_data$X2015 <- as.numeric(gsub(\",\",\"\",req_data$X2015))\n",
    "req_data$X2016 <- as.numeric(gsub(\",\",\"\",req_data$X2016))\n",
    "req_data$X2017 <- as.numeric(gsub(\",\",\"\",req_data$X2017))\n",
    "req_data$X2018 <- as.numeric(gsub(\",\",\"\",req_data$X2018))\n",
    "req_data$X2019 <- as.numeric(gsub(\",\",\"\",req_data$X2019))\n",
    "imports <- req_data\n",
    "head(imports, 6)"
   ]
  },
  {
   "cell_type": "markdown",
   "metadata": {},
   "source": [
    "Here, all the commas are removed and required data is converted to numeric so that we can perform computation and manipulate data."
   ]
  },
  {
   "cell_type": "markdown",
   "metadata": {},
   "source": [
    "### Data Adaptation"
   ]
  },
  {
   "cell_type": "code",
   "execution_count": 151,
   "metadata": {
    "scrolled": false
   },
   "outputs": [
    {
     "data": {
      "text/html": [
       "<table>\n",
       "<thead><tr><th scope=col>Category</th><th scope=col>Item</th><th scope=col>X2003</th><th scope=col>X2004</th><th scope=col>X2005</th><th scope=col>X2006</th><th scope=col>X2007</th><th scope=col>X2008</th><th scope=col>X2009</th><th scope=col>X2010</th><th scope=col>...</th><th scope=col>X2013</th><th scope=col>X2014</th><th scope=col>X2015</th><th scope=col>X2016</th><th scope=col>X2017</th><th scope=col>X2018</th><th scope=col>X2019</th><th scope=col>Total_imports</th><th scope=col>Total_before_recession</th><th scope=col>Total_after_recession</th></tr></thead>\n",
       "<tbody>\n",
       "\t<tr><td>200/301                   </td><td>Imports from the world ($)</td><td>277430029                 </td><td>415842557                 </td><td>414534831                 </td><td>372199929                 </td><td>289041401                 </td><td>279894752                 </td><td>226077990                 </td><td> 280791228                </td><td>...                       </td><td> 310345671                </td><td> 302598547                </td><td> 304875585                </td><td> 258294284                </td><td> 267937460                </td><td> 284468926                </td><td> 241519107                </td><td> 5105264882               </td><td>1581748903                </td><td>1473148031                </td></tr>\n",
       "\t<tr><td>200/301                   </td><td>Imports from China ($)    </td><td>  8984223                 </td><td> 16395205                 </td><td> 28310203                 </td><td> 18401779                 </td><td> 12724670                 </td><td> 16461879                 </td><td> 14817764                 </td><td>  23676756                </td><td>...                       </td><td>  56022057                </td><td>  39453680                </td><td>  41977880                </td><td>  39118205                </td><td>  44728677                </td><td>  60433950                </td><td>  43633421                </td><td>  532321910               </td><td>  90716295                </td><td> 186334054                </td></tr>\n",
       "\t<tr><td>222                       </td><td>Imports from the world ($)</td><td>784634904                 </td><td>742935566                 </td><td>746187183                 </td><td>739609652                 </td><td>608743785                 </td><td>492052643                 </td><td>417633208                 </td><td> 491395780                </td><td>...                       </td><td> 685556751                </td><td> 736583989                </td><td> 743856690                </td><td> 739876438                </td><td> 698680361                </td><td> 731426998                </td><td> 640534798                </td><td>11233394913               </td><td>3004226471                </td><td>3147222687                </td></tr>\n",
       "\t<tr><td>222                       </td><td>Imports from China ($)    </td><td> 42833655                 </td><td> 46337000                 </td><td> 73590660                 </td><td> 60714696                 </td><td> 62595686                 </td><td> 63886401                 </td><td>105862106                 </td><td> 148340338                </td><td>...                       </td><td> 312989813                </td><td> 320097103                </td><td> 343506586                </td><td> 351277976                </td><td> 313000481                </td><td> 317651304                </td><td> 220567928                </td><td> 3268309567               </td><td> 366649549                </td><td>1266485088                </td></tr>\n",
       "\t<tr><td>229                       </td><td>Imports from the world ($)</td><td>778245261                 </td><td>878593955                 </td><td>974096414                 </td><td>888992331                 </td><td>892619631                 </td><td>908657541                 </td><td>788279175                 </td><td>1000862014                </td><td>...                       </td><td>1267983490                </td><td>1355100992                </td><td>1411539731                </td><td>1404754824                </td><td>1437437235                </td><td>1560186828                </td><td>1500228995                </td><td>19460782146               </td><td>4452645092                </td><td>6037150225                </td></tr>\n",
       "\t<tr><td>229                       </td><td>Imports from China ($)    </td><td> 63862852                 </td><td>122362635                 </td><td>174253750                 </td><td>112067212                 </td><td>100525706                 </td><td>128890120                 </td><td>119087104                 </td><td> 145205662                </td><td>...                       </td><td> 281228389                </td><td> 316523948                </td><td> 370854783                </td><td> 390369320                </td><td> 409974889                </td><td> 453144037                </td><td> 319019446                </td><td> 3972971942               </td><td> 634823892                </td><td>1208560088                </td></tr>\n",
       "</tbody>\n",
       "</table>\n"
      ],
      "text/latex": [
       "\\begin{tabular}{r|llllllllllllllllllllll}\n",
       " Category & Item & X2003 & X2004 & X2005 & X2006 & X2007 & X2008 & X2009 & X2010 & ... & X2013 & X2014 & X2015 & X2016 & X2017 & X2018 & X2019 & Total\\_imports & Total\\_before\\_recession & Total\\_after\\_recession\\\\\n",
       "\\hline\n",
       "\t 200/301                      & Imports from the world (\\$) & 277430029                    & 415842557                    & 414534831                    & 372199929                    & 289041401                    & 279894752                    & 226077990                    &  280791228                   & ...                          &  310345671                   &  302598547                   &  304875585                   &  258294284                   &  267937460                   &  284468926                   &  241519107                   &  5105264882                  & 1581748903                   & 1473148031                  \\\\\n",
       "\t 200/301                      & Imports from China (\\$)     &   8984223                    &  16395205                    &  28310203                    &  18401779                    &  12724670                    &  16461879                    &  14817764                    &   23676756                   & ...                          &   56022057                   &   39453680                   &   41977880                   &   39118205                   &   44728677                   &   60433950                   &   43633421                   &   532321910                  &   90716295                   &  186334054                  \\\\\n",
       "\t 222                          & Imports from the world (\\$) & 784634904                    & 742935566                    & 746187183                    & 739609652                    & 608743785                    & 492052643                    & 417633208                    &  491395780                   & ...                          &  685556751                   &  736583989                   &  743856690                   &  739876438                   &  698680361                   &  731426998                   &  640534798                   & 11233394913                  & 3004226471                   & 3147222687                  \\\\\n",
       "\t 222                          & Imports from China (\\$)     &  42833655                    &  46337000                    &  73590660                    &  60714696                    &  62595686                    &  63886401                    & 105862106                    &  148340338                   & ...                          &  312989813                   &  320097103                   &  343506586                   &  351277976                   &  313000481                   &  317651304                   &  220567928                   &  3268309567                  &  366649549                   & 1266485088                  \\\\\n",
       "\t 229                          & Imports from the world (\\$) & 778245261                    & 878593955                    & 974096414                    & 888992331                    & 892619631                    & 908657541                    & 788279175                    & 1000862014                   & ...                          & 1267983490                   & 1355100992                   & 1411539731                   & 1404754824                   & 1437437235                   & 1560186828                   & 1500228995                   & 19460782146                  & 4452645092                   & 6037150225                  \\\\\n",
       "\t 229                          & Imports from China (\\$)     &  63862852                    & 122362635                    & 174253750                    & 112067212                    & 100525706                    & 128890120                    & 119087104                    &  145205662                   & ...                          &  281228389                   &  316523948                   &  370854783                   &  390369320                   &  409974889                   &  453144037                   &  319019446                   &  3972971942                  &  634823892                   & 1208560088                  \\\\\n",
       "\\end{tabular}\n"
      ],
      "text/markdown": [
       "\n",
       "| Category | Item | X2003 | X2004 | X2005 | X2006 | X2007 | X2008 | X2009 | X2010 | ... | X2013 | X2014 | X2015 | X2016 | X2017 | X2018 | X2019 | Total_imports | Total_before_recession | Total_after_recession |\n",
       "|---|---|---|---|---|---|---|---|---|---|---|---|---|---|---|---|---|---|---|---|---|\n",
       "| 200/301                    | Imports from the world ($) | 277430029                  | 415842557                  | 414534831                  | 372199929                  | 289041401                  | 279894752                  | 226077990                  |  280791228                 | ...                        |  310345671                 |  302598547                 |  304875585                 |  258294284                 |  267937460                 |  284468926                 |  241519107                 |  5105264882                | 1581748903                 | 1473148031                 |\n",
       "| 200/301                    | Imports from China ($)     |   8984223                  |  16395205                  |  28310203                  |  18401779                  |  12724670                  |  16461879                  |  14817764                  |   23676756                 | ...                        |   56022057                 |   39453680                 |   41977880                 |   39118205                 |   44728677                 |   60433950                 |   43633421                 |   532321910                |   90716295                 |  186334054                 |\n",
       "| 222                        | Imports from the world ($) | 784634904                  | 742935566                  | 746187183                  | 739609652                  | 608743785                  | 492052643                  | 417633208                  |  491395780                 | ...                        |  685556751                 |  736583989                 |  743856690                 |  739876438                 |  698680361                 |  731426998                 |  640534798                 | 11233394913                | 3004226471                 | 3147222687                 |\n",
       "| 222                        | Imports from China ($)     |  42833655                  |  46337000                  |  73590660                  |  60714696                  |  62595686                  |  63886401                  | 105862106                  |  148340338                 | ...                        |  312989813                 |  320097103                 |  343506586                 |  351277976                 |  313000481                 |  317651304                 |  220567928                 |  3268309567                |  366649549                 | 1266485088                 |\n",
       "| 229                        | Imports from the world ($) | 778245261                  | 878593955                  | 974096414                  | 888992331                  | 892619631                  | 908657541                  | 788279175                  | 1000862014                 | ...                        | 1267983490                 | 1355100992                 | 1411539731                 | 1404754824                 | 1437437235                 | 1560186828                 | 1500228995                 | 19460782146                | 4452645092                 | 6037150225                 |\n",
       "| 229                        | Imports from China ($)     |  63862852                  | 122362635                  | 174253750                  | 112067212                  | 100525706                  | 128890120                  | 119087104                  |  145205662                 | ...                        |  281228389                 |  316523948                 |  370854783                 |  390369320                 |  409974889                 |  453144037                 |  319019446                 |  3972971942                |  634823892                 | 1208560088                 |\n",
       "\n"
      ],
      "text/plain": [
       "  Category Item                       X2003     X2004     X2005     X2006    \n",
       "1 200/301  Imports from the world ($) 277430029 415842557 414534831 372199929\n",
       "2 200/301  Imports from China ($)       8984223  16395205  28310203  18401779\n",
       "3 222      Imports from the world ($) 784634904 742935566 746187183 739609652\n",
       "4 222      Imports from China ($)      42833655  46337000  73590660  60714696\n",
       "5 229      Imports from the world ($) 778245261 878593955 974096414 888992331\n",
       "6 229      Imports from China ($)      63862852 122362635 174253750 112067212\n",
       "  X2007     X2008     X2009     X2010      ... X2013      X2014      X2015     \n",
       "1 289041401 279894752 226077990  280791228 ...  310345671  302598547  304875585\n",
       "2  12724670  16461879  14817764   23676756 ...   56022057   39453680   41977880\n",
       "3 608743785 492052643 417633208  491395780 ...  685556751  736583989  743856690\n",
       "4  62595686  63886401 105862106  148340338 ...  312989813  320097103  343506586\n",
       "5 892619631 908657541 788279175 1000862014 ... 1267983490 1355100992 1411539731\n",
       "6 100525706 128890120 119087104  145205662 ...  281228389  316523948  370854783\n",
       "  X2016      X2017      X2018      X2019      Total_imports\n",
       "1  258294284  267937460  284468926  241519107  5105264882  \n",
       "2   39118205   44728677   60433950   43633421   532321910  \n",
       "3  739876438  698680361  731426998  640534798 11233394913  \n",
       "4  351277976  313000481  317651304  220567928  3268309567  \n",
       "5 1404754824 1437437235 1560186828 1500228995 19460782146  \n",
       "6  390369320  409974889  453144037  319019446  3972971942  \n",
       "  Total_before_recession Total_after_recession\n",
       "1 1581748903             1473148031           \n",
       "2   90716295              186334054           \n",
       "3 3004226471             3147222687           \n",
       "4  366649549             1266485088           \n",
       "5 4452645092             6037150225           \n",
       "6  634823892             1208560088           "
      ]
     },
     "metadata": {},
     "output_type": "display_data"
    }
   ],
   "source": [
    "#Adding columns\n",
    "Total_imports <- imports %>% mutate(Total_imports = select(. , X2003:X2019) %>% rowSums())\n",
    "Total_imports <- Total_imports %>% mutate(Total_before_recession = select(., X2005:X2009) %>% rowSums())\n",
    "Total_imports <- Total_imports %>% mutate(Total_after_recession = select(., X2010:X2014) %>% rowSums())\n",
    "\n",
    "head(Total_imports, 6)"
   ]
  },
  {
   "cell_type": "markdown",
   "metadata": {},
   "source": [
    "The above table has 3 additional columns containing total imports over the years, total imports before recession and total imports after recession. We want to explore if there are any trends."
   ]
  },
  {
   "cell_type": "markdown",
   "metadata": {},
   "source": [
    "## Descriptive Visualization"
   ]
  },
  {
   "cell_type": "code",
   "execution_count": 149,
   "metadata": {},
   "outputs": [
    {
     "data": {
      "image/png": "[encoded data removed]",
      "text/plain": [
       "plot without title"
      ]
     },
     "metadata": {},
     "output_type": "display_data"
    },
    {
     "data": {
      "image/png": "[encoded data removed]",
      "text/plain": [
       "plot without title"
      ]
     },
     "metadata": {},
     "output_type": "display_data"
    }
   ],
   "source": [
    "#Plots\n",
    "options(repr.plot.width = 8, repr.plot.height = 3)\n",
    "\n",
    "ggplot(Total_imports) +\n",
    "  geom_boxplot(aes(x = Category, y= Total_before_recession)) +\n",
    "coord_flip()\n",
    "\n",
    "ggplot(Total_imports) +\n",
    "  geom_boxplot(aes(x = Category, y= Total_after_recession)) +\n",
    "coord_flip()"
   ]
  },
  {
   "cell_type": "markdown",
   "metadata": {},
   "source": [
    "In the above plots we can see that materials like \"638/639\" and \"338/339\" has increased substantially after recession"
   ]
  },
  {
   "cell_type": "code",
   "execution_count": 150,
   "metadata": {
    "scrolled": false
   },
   "outputs": [
    {
     "data": {
      "image/png": "[encoded data removed]",
      "text/plain": [
       "plot without title"
      ]
     },
     "metadata": {},
     "output_type": "display_data"
    },
    {
     "data": {
      "image/png": "[encoded data removed]",
      "text/plain": [
       "plot without title"
      ]
     },
     "metadata": {},
     "output_type": "display_data"
    },
    {
     "data": {
      "image/png": "[encoded data removed]",
      "text/plain": [
       "plot without title"
      ]
     },
     "metadata": {},
     "output_type": "display_data"
    }
   ],
   "source": [
    "#Plots\n",
    "options(repr.plot.width = 8, repr.plot.height = 3)\n",
    "\n",
    "ggplot(Total_imports) +\n",
    "  geom_point(aes(x = Category, y= X2003, color = Item)) +\n",
    "coord_flip()\n",
    "\n",
    "ggplot(Total_imports) +\n",
    "  geom_point(aes(x = Category, y= X2008, color = Item)) +\n",
    "coord_flip()\n",
    "\n",
    "ggplot(Total_imports) +\n",
    "  geom_point(aes(x = Category, y= X2019 , color = Item)) +\n",
    "coord_flip()"
   ]
  },
  {
   "cell_type": "markdown",
   "metadata": {},
   "source": [
    "The above graphs show how imports of different materials from World and from China. There are certain textiles like \"847\" that are almost imported from china. It can be seen that there has been substantial increase in imports of certain goods over the years. Also, It is observed that most of the textile imports from china was negligible in 2003. However, over the years it has increased substantially. It is very much congruent with increase in world imports. We would like to know which are those goods and what are patterns observed in further analysis."
   ]
  },
  {
   "cell_type": "code",
   "execution_count": 152,
   "metadata": {
    "scrolled": false
   },
   "outputs": [
    {
     "data": {
      "text/html": [
       "<table>\n",
       "<thead><tr><th scope=col>Category</th><th scope=col>X2003</th><th scope=col>X2004</th><th scope=col>X2005</th><th scope=col>X2006</th><th scope=col>X2007</th><th scope=col>X2008</th><th scope=col>X2009</th><th scope=col>X2010</th><th scope=col>X2011</th><th scope=col>X2012</th><th scope=col>X2013</th><th scope=col>X2014</th><th scope=col>X2015</th><th scope=col>X2016</th><th scope=col>X2017</th><th scope=col>X2018</th><th scope=col>X2019</th></tr></thead>\n",
       "<tbody>\n",
       "\t<tr><td>200/301                                  </td><td>  8984223                                </td><td> 16395205                                </td><td> 28310203                                </td><td> 18401779                                </td><td>  12724670                               </td><td>  16461879                               </td><td>  14817764                               </td><td>  23676756                               </td><td>  28385492                               </td><td>  38796069                               </td><td>  56022057                               </td><td>  39453680                               </td><td>  41977880                               </td><td>  39118205                               </td><td>  44728677                               </td><td>  60433950                               </td><td>  43633421                               </td></tr>\n",
       "\t<tr><td>222                                      </td><td> 42833655                                </td><td> 46337000                                </td><td> 73590660                                </td><td> 60714696                                </td><td>  62595686                               </td><td>  63886401                               </td><td> 105862106                               </td><td> 148340338                               </td><td> 206270402                               </td><td> 278787432                               </td><td> 312989813                               </td><td> 320097103                               </td><td> 343506586                               </td><td> 351277976                               </td><td> 313000481                               </td><td> 317651304                               </td><td> 220567928                               </td></tr>\n",
       "\t<tr><td>229                                      </td><td> 63862852                                </td><td>122362635                                </td><td>174253750                                </td><td>112067212                                </td><td> 100525706                               </td><td> 128890120                               </td><td> 119087104                               </td><td> 145205662                               </td><td> 206755287                               </td><td> 258846802                               </td><td> 281228389                               </td><td> 316523948                               </td><td> 370854783                               </td><td> 390369320                               </td><td> 409974889                               </td><td> 453144037                               </td><td> 319019446                               </td></tr>\n",
       "\t<tr><td>332/432/632-T/632-B (includes baby socks)</td><td>  8493539                                </td><td> 12744469                                </td><td> 38189334                                </td><td> 80042190                                </td><td> 383587377                               </td><td> 442834895                               </td><td> 538730469                               </td><td> 692666040                               </td><td> 800371131                               </td><td> 944786162                               </td><td>1058571395                               </td><td>1092421189                               </td><td>1271775298                               </td><td>1184395528                               </td><td>1216729716                               </td><td>1351588513                               </td><td>1368602234                               </td></tr>\n",
       "\t<tr><td>338/339                                  </td><td> 92748655                                </td><td> 96717389                                </td><td>324077440                                </td><td>851642337                                </td><td>1255548181                               </td><td>1317452469                               </td><td>2495292410                               </td><td>3288215347                               </td><td>3279471023                               </td><td>3044799325                               </td><td>3142878540                               </td><td>2841469166                               </td><td>2595106615                               </td><td>2194076683                               </td><td>2177751102                               </td><td>2273532466                               </td><td>1954839330                               </td></tr>\n",
       "\t<tr><td>340/640                                  </td><td>136003562                                </td><td>160634388                                </td><td>295638644                                </td><td>284714893                                </td><td> 536281187                               </td><td> 622832231                               </td><td> 702292659                               </td><td> 932018531                               </td><td> 932065972                               </td><td> 861303717                               </td><td> 864030652                               </td><td> 845544136                               </td><td> 807928525                               </td><td> 734983152                               </td><td> 666082146                               </td><td> 634810805                               </td><td> 473185742                               </td></tr>\n",
       "</tbody>\n",
       "</table>\n"
      ],
      "text/latex": [
       "\\begin{tabular}{r|llllllllllllllllll}\n",
       " Category & X2003 & X2004 & X2005 & X2006 & X2007 & X2008 & X2009 & X2010 & X2011 & X2012 & X2013 & X2014 & X2015 & X2016 & X2017 & X2018 & X2019\\\\\n",
       "\\hline\n",
       "\t 200/301                                   &   8984223                                 &  16395205                                 &  28310203                                 &  18401779                                 &   12724670                                &   16461879                                &   14817764                                &   23676756                                &   28385492                                &   38796069                                &   56022057                                &   39453680                                &   41977880                                &   39118205                                &   44728677                                &   60433950                                &   43633421                               \\\\\n",
       "\t 222                                       &  42833655                                 &  46337000                                 &  73590660                                 &  60714696                                 &   62595686                                &   63886401                                &  105862106                                &  148340338                                &  206270402                                &  278787432                                &  312989813                                &  320097103                                &  343506586                                &  351277976                                &  313000481                                &  317651304                                &  220567928                               \\\\\n",
       "\t 229                                       &  63862852                                 & 122362635                                 & 174253750                                 & 112067212                                 &  100525706                                &  128890120                                &  119087104                                &  145205662                                &  206755287                                &  258846802                                &  281228389                                &  316523948                                &  370854783                                &  390369320                                &  409974889                                &  453144037                                &  319019446                               \\\\\n",
       "\t 332/432/632-T/632-B (includes baby socks) &   8493539                                 &  12744469                                 &  38189334                                 &  80042190                                 &  383587377                                &  442834895                                &  538730469                                &  692666040                                &  800371131                                &  944786162                                & 1058571395                                & 1092421189                                & 1271775298                                & 1184395528                                & 1216729716                                & 1351588513                                & 1368602234                               \\\\\n",
       "\t 338/339                                   &  92748655                                 &  96717389                                 & 324077440                                 & 851642337                                 & 1255548181                                & 1317452469                                & 2495292410                                & 3288215347                                & 3279471023                                & 3044799325                                & 3142878540                                & 2841469166                                & 2595106615                                & 2194076683                                & 2177751102                                & 2273532466                                & 1954839330                               \\\\\n",
       "\t 340/640                                   & 136003562                                 & 160634388                                 & 295638644                                 & 284714893                                 &  536281187                                &  622832231                                &  702292659                                &  932018531                                &  932065972                                &  861303717                                &  864030652                                &  845544136                                &  807928525                                &  734983152                                &  666082146                                &  634810805                                &  473185742                               \\\\\n",
       "\\end{tabular}\n"
      ],
      "text/markdown": [
       "\n",
       "| Category | X2003 | X2004 | X2005 | X2006 | X2007 | X2008 | X2009 | X2010 | X2011 | X2012 | X2013 | X2014 | X2015 | X2016 | X2017 | X2018 | X2019 |\n",
       "|---|---|---|---|---|---|---|---|---|---|---|---|---|---|---|---|---|---|\n",
       "| 200/301                                   |   8984223                                 |  16395205                                 |  28310203                                 |  18401779                                 |   12724670                                |   16461879                                |   14817764                                |   23676756                                |   28385492                                |   38796069                                |   56022057                                |   39453680                                |   41977880                                |   39118205                                |   44728677                                |   60433950                                |   43633421                                |\n",
       "| 222                                       |  42833655                                 |  46337000                                 |  73590660                                 |  60714696                                 |   62595686                                |   63886401                                |  105862106                                |  148340338                                |  206270402                                |  278787432                                |  312989813                                |  320097103                                |  343506586                                |  351277976                                |  313000481                                |  317651304                                |  220567928                                |\n",
       "| 229                                       |  63862852                                 | 122362635                                 | 174253750                                 | 112067212                                 |  100525706                                |  128890120                                |  119087104                                |  145205662                                |  206755287                                |  258846802                                |  281228389                                |  316523948                                |  370854783                                |  390369320                                |  409974889                                |  453144037                                |  319019446                                |\n",
       "| 332/432/632-T/632-B (includes baby socks) |   8493539                                 |  12744469                                 |  38189334                                 |  80042190                                 |  383587377                                |  442834895                                |  538730469                                |  692666040                                |  800371131                                |  944786162                                | 1058571395                                | 1092421189                                | 1271775298                                | 1184395528                                | 1216729716                                | 1351588513                                | 1368602234                                |\n",
       "| 338/339                                   |  92748655                                 |  96717389                                 | 324077440                                 | 851642337                                 | 1255548181                                | 1317452469                                | 2495292410                                | 3288215347                                | 3279471023                                | 3044799325                                | 3142878540                                | 2841469166                                | 2595106615                                | 2194076683                                | 2177751102                                | 2273532466                                | 1954839330                                |\n",
       "| 340/640                                   | 136003562                                 | 160634388                                 | 295638644                                 | 284714893                                 |  536281187                                |  622832231                                |  702292659                                |  932018531                                |  932065972                                |  861303717                                |  864030652                                |  845544136                                |  807928525                                |  734983152                                |  666082146                                |  634810805                                |  473185742                                |\n",
       "\n"
      ],
      "text/plain": [
       "  Category                                  X2003     X2004     X2005    \n",
       "1 200/301                                     8984223  16395205  28310203\n",
       "2 222                                        42833655  46337000  73590660\n",
       "3 229                                        63862852 122362635 174253750\n",
       "4 332/432/632-T/632-B (includes baby socks)   8493539  12744469  38189334\n",
       "5 338/339                                    92748655  96717389 324077440\n",
       "6 340/640                                   136003562 160634388 295638644\n",
       "  X2006     X2007      X2008      X2009      X2010      X2011      X2012     \n",
       "1  18401779   12724670   16461879   14817764   23676756   28385492   38796069\n",
       "2  60714696   62595686   63886401  105862106  148340338  206270402  278787432\n",
       "3 112067212  100525706  128890120  119087104  145205662  206755287  258846802\n",
       "4  80042190  383587377  442834895  538730469  692666040  800371131  944786162\n",
       "5 851642337 1255548181 1317452469 2495292410 3288215347 3279471023 3044799325\n",
       "6 284714893  536281187  622832231  702292659  932018531  932065972  861303717\n",
       "  X2013      X2014      X2015      X2016      X2017      X2018      X2019     \n",
       "1   56022057   39453680   41977880   39118205   44728677   60433950   43633421\n",
       "2  312989813  320097103  343506586  351277976  313000481  317651304  220567928\n",
       "3  281228389  316523948  370854783  390369320  409974889  453144037  319019446\n",
       "4 1058571395 1092421189 1271775298 1184395528 1216729716 1351588513 1368602234\n",
       "5 3142878540 2841469166 2595106615 2194076683 2177751102 2273532466 1954839330\n",
       "6  864030652  845544136  807928525  734983152  666082146  634810805  473185742"
      ]
     },
     "metadata": {},
     "output_type": "display_data"
    }
   ],
   "source": [
    "#Extracting imports from china\n",
    "imports_china <- imports %>% filter(Item == \"Imports from China ($)\")\n",
    "imports_china <- subset(imports_china, select = -Item)\n",
    "imports_china <- imports_china[1:18]\n",
    "head(imports_china)"
   ]
  },
  {
   "cell_type": "code",
   "execution_count": 89,
   "metadata": {},
   "outputs": [
    {
     "data": {
      "image/png": "[encoded data removed]",
      "text/plain": [
       "plot without title"
      ]
     },
     "metadata": {},
     "output_type": "display_data"
    }
   ],
   "source": [
    "ggplot(imports_china) +\n",
    "  geom_bar(aes(x = Category, fill = X2019)) +\n",
    "coord_flip()"
   ]
  },
  {
   "cell_type": "markdown",
   "metadata": {},
   "source": [
    "Here, we can see those textiles that are highest imported from china"
   ]
  },
  {
   "cell_type": "code",
   "execution_count": 48,
   "metadata": {},
   "outputs": [],
   "source": [
    "n <- imports_china$Category"
   ]
  },
  {
   "cell_type": "code",
   "execution_count": 100,
   "metadata": {},
   "outputs": [],
   "source": [
    "imports_china <- as.data.frame(t(imports_china[,-1]))\n",
    "colnames(imports_china) <- n\n",
    "imports_china$Year <- factor(row.names(imports_china))"
   ]
  },
  {
   "cell_type": "code",
   "execution_count": 101,
   "metadata": {},
   "outputs": [
    {
     "data": {
      "text/html": [
       "<table>\n",
       "<thead><tr><th></th><th scope=col>647/648</th><th scope=col>638/639</th><th scope=col>352/652</th><th scope=col>349/649</th><th scope=col>345/645/646</th><th scope=col>340/640</th><th scope=col>347/348</th><th scope=col>338/339</th></tr></thead>\n",
       "<tbody>\n",
       "\t<tr><th scope=row>X2003</th><td> 242938626</td><td>  46373168</td><td>120125811 </td><td> 419697038</td><td>  90275674</td><td>136003562 </td><td> 280226491</td><td>  92748655</td></tr>\n",
       "\t<tr><th scope=row>X2004</th><td> 232299298</td><td>  48565549</td><td>137038641 </td><td> 446643983</td><td> 101276337</td><td>160634388 </td><td> 271880618</td><td>  96717389</td></tr>\n",
       "\t<tr><th scope=row>X2005</th><td> 346642412</td><td> 126286223</td><td>219171659 </td><td> 516641492</td><td> 448661914</td><td>295638644 </td><td>1067172888</td><td> 324077440</td></tr>\n",
       "\t<tr><th scope=row>X2006</th><td> 471988048</td><td> 351559478</td><td>197779318 </td><td> 679260972</td><td> 372386888</td><td>284714893 </td><td>1266127999</td><td> 851642337</td></tr>\n",
       "\t<tr><th scope=row>X2007</th><td> 642451160</td><td> 529975071</td><td>349130178 </td><td> 710724528</td><td> 717172898</td><td>536281187 </td><td>1766047082</td><td>1255548181</td></tr>\n",
       "\t<tr><th scope=row>X2008</th><td> 588393011</td><td> 543509807</td><td>365081993 </td><td> 808925319</td><td> 650532587</td><td>622832231 </td><td>1935815989</td><td>1317452469</td></tr>\n",
       "\t<tr><th scope=row>X2009</th><td> 582227168</td><td> 915584790</td><td>448694786 </td><td> 791507655</td><td> 873221546</td><td>702292659 </td><td>3048306813</td><td>2495292410</td></tr>\n",
       "\t<tr><th scope=row>X2010</th><td> 769843660</td><td>1168714885</td><td>632184698 </td><td> 977430972</td><td> 961339369</td><td>932018531 </td><td>3698536706</td><td>3288215347</td></tr>\n",
       "\t<tr><th scope=row>X2011</th><td> 858626159</td><td>1333081858</td><td>623374092 </td><td>1038885207</td><td>1106722145</td><td>932065972 </td><td>3511775063</td><td>3279471023</td></tr>\n",
       "\t<tr><th scope=row>X2012</th><td> 835970091</td><td>1550648435</td><td>675578605 </td><td>1137335957</td><td>1032748427</td><td>861303717 </td><td>3778877663</td><td>3044799325</td></tr>\n",
       "\t<tr><th scope=row>X2013</th><td> 953710467</td><td>1644429666</td><td>701980592 </td><td>1242838313</td><td>1094955454</td><td>864030652 </td><td>3941494979</td><td>3142878540</td></tr>\n",
       "\t<tr><th scope=row>X2014</th><td>1055178963</td><td>1731405683</td><td>740239064 </td><td>1176388633</td><td>1208735657</td><td>845544136 </td><td>3443726879</td><td>2841469166</td></tr>\n",
       "\t<tr><th scope=row>X2015</th><td>1175415742</td><td>1901306876</td><td>795984070 </td><td>1271724568</td><td>1197894565</td><td>807928525 </td><td>3499825492</td><td>2595106615</td></tr>\n",
       "\t<tr><th scope=row>X2016</th><td>1065195387</td><td>1861052291</td><td>786818869 </td><td>1204397403</td><td> 954486840</td><td>734983152 </td><td>3209599932</td><td>2194076683</td></tr>\n",
       "\t<tr><th scope=row>X2017</th><td>1109960975</td><td>1851767568</td><td>833630123 </td><td>1107934531</td><td> 821600454</td><td>666082146 </td><td>3126349177</td><td>2177751102</td></tr>\n",
       "\t<tr><th scope=row>X2018</th><td>1212024494</td><td>1857390548</td><td>822960152 </td><td> 910722768</td><td> 869472371</td><td>634810805 </td><td>3021978055</td><td>2273532466</td></tr>\n",
       "\t<tr><th scope=row>X2019</th><td>1088216647</td><td>1667477099</td><td>777292570 </td><td> 847740504</td><td> 830493767</td><td>473185742 </td><td>2360681450</td><td>1954839330</td></tr>\n",
       "</tbody>\n",
       "</table>\n"
      ],
      "text/latex": [
       "\\begin{tabular}{r|llllllll}\n",
       "  & 647/648 & 638/639 & 352/652 & 349/649 & 345/645/646 & 340/640 & 347/348 & 338/339\\\\\n",
       "\\hline\n",
       "\tX2003 &  242938626 &   46373168 & 120125811  &  419697038 &   90275674 & 136003562  &  280226491 &   92748655\\\\\n",
       "\tX2004 &  232299298 &   48565549 & 137038641  &  446643983 &  101276337 & 160634388  &  271880618 &   96717389\\\\\n",
       "\tX2005 &  346642412 &  126286223 & 219171659  &  516641492 &  448661914 & 295638644  & 1067172888 &  324077440\\\\\n",
       "\tX2006 &  471988048 &  351559478 & 197779318  &  679260972 &  372386888 & 284714893  & 1266127999 &  851642337\\\\\n",
       "\tX2007 &  642451160 &  529975071 & 349130178  &  710724528 &  717172898 & 536281187  & 1766047082 & 1255548181\\\\\n",
       "\tX2008 &  588393011 &  543509807 & 365081993  &  808925319 &  650532587 & 622832231  & 1935815989 & 1317452469\\\\\n",
       "\tX2009 &  582227168 &  915584790 & 448694786  &  791507655 &  873221546 & 702292659  & 3048306813 & 2495292410\\\\\n",
       "\tX2010 &  769843660 & 1168714885 & 632184698  &  977430972 &  961339369 & 932018531  & 3698536706 & 3288215347\\\\\n",
       "\tX2011 &  858626159 & 1333081858 & 623374092  & 1038885207 & 1106722145 & 932065972  & 3511775063 & 3279471023\\\\\n",
       "\tX2012 &  835970091 & 1550648435 & 675578605  & 1137335957 & 1032748427 & 861303717  & 3778877663 & 3044799325\\\\\n",
       "\tX2013 &  953710467 & 1644429666 & 701980592  & 1242838313 & 1094955454 & 864030652  & 3941494979 & 3142878540\\\\\n",
       "\tX2014 & 1055178963 & 1731405683 & 740239064  & 1176388633 & 1208735657 & 845544136  & 3443726879 & 2841469166\\\\\n",
       "\tX2015 & 1175415742 & 1901306876 & 795984070  & 1271724568 & 1197894565 & 807928525  & 3499825492 & 2595106615\\\\\n",
       "\tX2016 & 1065195387 & 1861052291 & 786818869  & 1204397403 &  954486840 & 734983152  & 3209599932 & 2194076683\\\\\n",
       "\tX2017 & 1109960975 & 1851767568 & 833630123  & 1107934531 &  821600454 & 666082146  & 3126349177 & 2177751102\\\\\n",
       "\tX2018 & 1212024494 & 1857390548 & 822960152  &  910722768 &  869472371 & 634810805  & 3021978055 & 2273532466\\\\\n",
       "\tX2019 & 1088216647 & 1667477099 & 777292570  &  847740504 &  830493767 & 473185742  & 2360681450 & 1954839330\\\\\n",
       "\\end{tabular}\n"
      ],
      "text/markdown": [
       "\n",
       "| <!--/--> | 647/648 | 638/639 | 352/652 | 349/649 | 345/645/646 | 340/640 | 347/348 | 338/339 |\n",
       "|---|---|---|---|---|---|---|---|---|\n",
       "| X2003 |  242938626 |   46373168 | 120125811  |  419697038 |   90275674 | 136003562  |  280226491 |   92748655 |\n",
       "| X2004 |  232299298 |   48565549 | 137038641  |  446643983 |  101276337 | 160634388  |  271880618 |   96717389 |\n",
       "| X2005 |  346642412 |  126286223 | 219171659  |  516641492 |  448661914 | 295638644  | 1067172888 |  324077440 |\n",
       "| X2006 |  471988048 |  351559478 | 197779318  |  679260972 |  372386888 | 284714893  | 1266127999 |  851642337 |\n",
       "| X2007 |  642451160 |  529975071 | 349130178  |  710724528 |  717172898 | 536281187  | 1766047082 | 1255548181 |\n",
       "| X2008 |  588393011 |  543509807 | 365081993  |  808925319 |  650532587 | 622832231  | 1935815989 | 1317452469 |\n",
       "| X2009 |  582227168 |  915584790 | 448694786  |  791507655 |  873221546 | 702292659  | 3048306813 | 2495292410 |\n",
       "| X2010 |  769843660 | 1168714885 | 632184698  |  977430972 |  961339369 | 932018531  | 3698536706 | 3288215347 |\n",
       "| X2011 |  858626159 | 1333081858 | 623374092  | 1038885207 | 1106722145 | 932065972  | 3511775063 | 3279471023 |\n",
       "| X2012 |  835970091 | 1550648435 | 675578605  | 1137335957 | 1032748427 | 861303717  | 3778877663 | 3044799325 |\n",
       "| X2013 |  953710467 | 1644429666 | 701980592  | 1242838313 | 1094955454 | 864030652  | 3941494979 | 3142878540 |\n",
       "| X2014 | 1055178963 | 1731405683 | 740239064  | 1176388633 | 1208735657 | 845544136  | 3443726879 | 2841469166 |\n",
       "| X2015 | 1175415742 | 1901306876 | 795984070  | 1271724568 | 1197894565 | 807928525  | 3499825492 | 2595106615 |\n",
       "| X2016 | 1065195387 | 1861052291 | 786818869  | 1204397403 |  954486840 | 734983152  | 3209599932 | 2194076683 |\n",
       "| X2017 | 1109960975 | 1851767568 | 833630123  | 1107934531 |  821600454 | 666082146  | 3126349177 | 2177751102 |\n",
       "| X2018 | 1212024494 | 1857390548 | 822960152  |  910722768 |  869472371 | 634810805  | 3021978055 | 2273532466 |\n",
       "| X2019 | 1088216647 | 1667477099 | 777292570  |  847740504 |  830493767 | 473185742  | 2360681450 | 1954839330 |\n",
       "\n"
      ],
      "text/plain": [
       "      647/648    638/639    352/652   349/649    345/645/646 340/640  \n",
       "X2003  242938626   46373168 120125811  419697038   90275674  136003562\n",
       "X2004  232299298   48565549 137038641  446643983  101276337  160634388\n",
       "X2005  346642412  126286223 219171659  516641492  448661914  295638644\n",
       "X2006  471988048  351559478 197779318  679260972  372386888  284714893\n",
       "X2007  642451160  529975071 349130178  710724528  717172898  536281187\n",
       "X2008  588393011  543509807 365081993  808925319  650532587  622832231\n",
       "X2009  582227168  915584790 448694786  791507655  873221546  702292659\n",
       "X2010  769843660 1168714885 632184698  977430972  961339369  932018531\n",
       "X2011  858626159 1333081858 623374092 1038885207 1106722145  932065972\n",
       "X2012  835970091 1550648435 675578605 1137335957 1032748427  861303717\n",
       "X2013  953710467 1644429666 701980592 1242838313 1094955454  864030652\n",
       "X2014 1055178963 1731405683 740239064 1176388633 1208735657  845544136\n",
       "X2015 1175415742 1901306876 795984070 1271724568 1197894565  807928525\n",
       "X2016 1065195387 1861052291 786818869 1204397403  954486840  734983152\n",
       "X2017 1109960975 1851767568 833630123 1107934531  821600454  666082146\n",
       "X2018 1212024494 1857390548 822960152  910722768  869472371  634810805\n",
       "X2019 1088216647 1667477099 777292570  847740504  830493767  473185742\n",
       "      347/348    338/339   \n",
       "X2003  280226491   92748655\n",
       "X2004  271880618   96717389\n",
       "X2005 1067172888  324077440\n",
       "X2006 1266127999  851642337\n",
       "X2007 1766047082 1255548181\n",
       "X2008 1935815989 1317452469\n",
       "X2009 3048306813 2495292410\n",
       "X2010 3698536706 3288215347\n",
       "X2011 3511775063 3279471023\n",
       "X2012 3778877663 3044799325\n",
       "X2013 3941494979 3142878540\n",
       "X2014 3443726879 2841469166\n",
       "X2015 3499825492 2595106615\n",
       "X2016 3209599932 2194076683\n",
       "X2017 3126349177 2177751102\n",
       "X2018 3021978055 2273532466\n",
       "X2019 2360681450 1954839330"
      ]
     },
     "metadata": {},
     "output_type": "display_data"
    }
   ],
   "source": [
    "textile_china <- imports_china %>% \n",
    "select(\"647/648\", \"638/639\",\"352/652\",\"349/649\",\"345/645/646\",\"340/640\",\"347/348\",\"338/339\")\n",
    "textile_china"
   ]
  },
  {
   "cell_type": "markdown",
   "metadata": {},
   "source": [
    "The above table is representing imports of certain goods as variables"
   ]
  },
  {
   "cell_type": "markdown",
   "metadata": {},
   "source": [
    "## Explore Correlations"
   ]
  },
  {
   "cell_type": "code",
   "execution_count": 70,
   "metadata": {},
   "outputs": [
    {
     "data": {
      "image/png": "[encoded data removed]",
      "text/plain": [
       "plot without title"
      ]
     },
     "metadata": {},
     "output_type": "display_data"
    }
   ],
   "source": [
    "ggpairs(textile_china)"
   ]
  },
  {
   "cell_type": "markdown",
   "metadata": {},
   "source": [
    "In the above plot, we can see various correlations between different textiles. We will choose textile \"347/348\" as response variable here as it is the highest imported textile from china."
   ]
  },
  {
   "cell_type": "markdown",
   "metadata": {},
   "source": [
    "## Model Building and comparison"
   ]
  },
  {
   "cell_type": "markdown",
   "metadata": {},
   "source": [
    "## Simple Linear Regression"
   ]
  },
  {
   "cell_type": "markdown",
   "metadata": {},
   "source": [
    "### Response variable"
   ]
  },
  {
   "attachments": {},
   "cell_type": "markdown",
   "metadata": {},
   "source": [
    "To form linear regression models, I chose \"347/348\" as my target(predicted) variable. It represets M&B cotton trousers, breeches & shorts, and W&G cotton trousers, slacks & shorts. So I want to form a model which explains the rise of import of this material . So, after running correlation tests, I have come up with this different models."
   ]
  },
  {
   "cell_type": "code",
   "execution_count": 113,
   "metadata": {},
   "outputs": [
    {
     "data": {
      "text/plain": [
       "\n",
       "Call:\n",
       "lm(formula = textile_china$\"347/348\" ~ textile_china$\"352/652\", \n",
       "    data = textile_china)\n",
       "\n",
       "Residuals:\n",
       "       Min         1Q     Median         3Q        Max \n",
       "-1.139e+09 -5.384e+08  1.317e+07  6.401e+08  8.892e+08 \n",
       "\n",
       "Coefficients:\n",
       "                         Estimate Std. Error t value Pr(>|t|)    \n",
       "(Intercept)             3.286e+08  3.582e+08   0.917    0.374    \n",
       "textile_china$\"352/652\" 4.080e+00  5.984e-01   6.817 5.82e-06 ***\n",
       "---\n",
       "Signif. codes:  0 '***' 0.001 '**' 0.01 '*' 0.05 '.' 0.1 ' ' 1\n",
       "\n",
       "Residual standard error: 622800000 on 15 degrees of freedom\n",
       "Multiple R-squared:  0.756,\tAdjusted R-squared:  0.7397 \n",
       "F-statistic: 46.48 on 1 and 15 DF,  p-value: 5.819e-06\n"
      ]
     },
     "metadata": {},
     "output_type": "display_data"
    }
   ],
   "source": [
    "model1 <- lm( textile_china$\"347/348\" ~ textile_china$\"352/652\", data = textile_china)\n",
    "summary(model1)"
   ]
  },
  {
   "cell_type": "code",
   "execution_count": 114,
   "metadata": {},
   "outputs": [
    {
     "data": {
      "text/plain": [
       "\n",
       "Call:\n",
       "lm(formula = textile_china$\"347/348\" ~ textile_china$\"349/649\", \n",
       "    data = textile_china)\n",
       "\n",
       "Residuals:\n",
       "       Min         1Q     Median         3Q        Max \n",
       "-575825115 -308901571   -8514721  266612037  944693468 \n",
       "\n",
       "Coefficients:\n",
       "                          Estimate Std. Error t value Pr(>|t|)    \n",
       "(Intercept)             -1.120e+09  3.935e+08  -2.847   0.0122 *  \n",
       "textile_china$\"349/649\"  4.073e+00  4.191e-01   9.719 7.26e-08 ***\n",
       "---\n",
       "Signif. codes:  0 '***' 0.001 '**' 0.01 '*' 0.05 '.' 0.1 ' ' 1\n",
       "\n",
       "Residual standard error: 466700000 on 15 degrees of freedom\n",
       "Multiple R-squared:  0.863,\tAdjusted R-squared:  0.8538 \n",
       "F-statistic: 94.46 on 1 and 15 DF,  p-value: 7.259e-08\n"
      ]
     },
     "metadata": {},
     "output_type": "display_data"
    }
   ],
   "source": [
    "model2 <- lm( textile_china$\"347/348\" ~ textile_china$\"349/649\", data = textile_china)\n",
    "summary(model2)"
   ]
  },
  {
   "cell_type": "code",
   "execution_count": 115,
   "metadata": {},
   "outputs": [
    {
     "data": {
      "text/plain": [
       "\n",
       "Call:\n",
       "lm(formula = textile_china$\"347/348\" ~ textile_china$\"345/645/646\", \n",
       "    data = textile_china)\n",
       "\n",
       "Residuals:\n",
       "       Min         1Q     Median         3Q        Max \n",
       "-551852480 -337340492   65184656  206959240  561607596 \n",
       "\n",
       "Coefficients:\n",
       "                              Estimate Std. Error t value Pr(>|t|)    \n",
       "(Intercept)                 -8.778e+07  2.212e+08  -0.397    0.697    \n",
       "textile_china$\"345/645/646\"  3.354e+00  2.590e-01  12.953 1.51e-09 ***\n",
       "---\n",
       "Signif. codes:  0 '***' 0.001 '**' 0.01 '*' 0.05 '.' 0.1 ' ' 1\n",
       "\n",
       "Residual standard error: 361200000 on 15 degrees of freedom\n",
       "Multiple R-squared:  0.9179,\tAdjusted R-squared:  0.9125 \n",
       "F-statistic: 167.8 on 1 and 15 DF,  p-value: 1.511e-09\n"
      ]
     },
     "metadata": {},
     "output_type": "display_data"
    }
   ],
   "source": [
    "model3 <- lm( textile_china$\"347/348\" ~ textile_china$\"345/645/646\", data = textile_china)\n",
    "summary(model3)"
   ]
  },
  {
   "cell_type": "code",
   "execution_count": 116,
   "metadata": {},
   "outputs": [
    {
     "data": {
      "text/plain": [
       "\n",
       "Call:\n",
       "lm(formula = textile_china$\"347/348\" ~ textile_china$\"340/640\", \n",
       "    data = textile_china)\n",
       "\n",
       "Residuals:\n",
       "       Min         1Q     Median         3Q        Max \n",
       "-632750525 -230401874  103774556  209135941  461118814 \n",
       "\n",
       "Coefficients:\n",
       "                          Estimate Std. Error t value Pr(>|t|)    \n",
       "(Intercept)             -2.158e+08  2.077e+08  -1.039    0.315    \n",
       "textile_china$\"340/640\"  4.471e+00  3.110e-01  14.375 3.53e-10 ***\n",
       "---\n",
       "Signif. codes:  0 '***' 0.001 '**' 0.01 '*' 0.05 '.' 0.1 ' ' 1\n",
       "\n",
       "Residual standard error: 3.28e+08 on 15 degrees of freedom\n",
       "Multiple R-squared:  0.9323,\tAdjusted R-squared:  0.9278 \n",
       "F-statistic: 206.6 on 1 and 15 DF,  p-value: 3.534e-10\n"
      ]
     },
     "metadata": {},
     "output_type": "display_data"
    }
   ],
   "source": [
    "model4 <- lm( textile_china$\"347/348\" ~ textile_china$\"340/640\", data = textile_china)\n",
    "summary(model4)"
   ]
  },
  {
   "cell_type": "code",
   "execution_count": 117,
   "metadata": {},
   "outputs": [
    {
     "data": {
      "text/plain": [
       "\n",
       "Call:\n",
       "lm(formula = textile_china$\"347/348\" ~ textile_china$\"338/339\", \n",
       "    data = textile_china)\n",
       "\n",
       "Residuals:\n",
       "       Min         1Q     Median         3Q        Max \n",
       "-465919643 -182590585  -19973649  133598273  407261558 \n",
       "\n",
       "Coefficients:\n",
       "                         Estimate Std. Error t value Pr(>|t|)    \n",
       "(Intercept)             4.264e+08  1.273e+08    3.35  0.00439 ** \n",
       "textile_china$\"338/339\" 1.083e+00  5.711e-02   18.96 6.83e-12 ***\n",
       "---\n",
       "Signif. codes:  0 '***' 0.001 '**' 0.01 '*' 0.05 '.' 0.1 ' ' 1\n",
       "\n",
       "Residual standard error: 252300000 on 15 degrees of freedom\n",
       "Multiple R-squared:  0.9599,\tAdjusted R-squared:  0.9573 \n",
       "F-statistic: 359.5 on 1 and 15 DF,  p-value: 6.828e-12\n"
      ]
     },
     "metadata": {},
     "output_type": "display_data"
    }
   ],
   "source": [
    "model5 <- lm( textile_china$\"347/348\" ~ textile_china$\"338/339\", data = textile_china)\n",
    "summary(model5)"
   ]
  },
  {
   "cell_type": "markdown",
   "metadata": {},
   "source": [
    "We can see that model5 is the best model among simple linear regression as it explains 95% of errors and has the least p-value. Here, the response variable is positively correlated with explanatory variable."
   ]
  },
  {
   "cell_type": "markdown",
   "metadata": {},
   "source": [
    "## Multiple Linear Regression"
   ]
  },
  {
   "cell_type": "code",
   "execution_count": 156,
   "metadata": {},
   "outputs": [
    {
     "data": {
      "text/plain": [
       "\n",
       "Call:\n",
       "lm(formula = textile_china$\"347/348\" ~ textile_china$\"338/339\" + \n",
       "    textile_china$\"340/640\" + textile_china$\"349/649\" + textile_china$\"352/652\", \n",
       "    data = textile_china)\n",
       "\n",
       "Residuals:\n",
       "       Min         1Q     Median         3Q        Max \n",
       "-252492604 -103546066  -26236437  107921839  262502278 \n",
       "\n",
       "Coefficients:\n",
       "                          Estimate Std. Error t value Pr(>|t|)   \n",
       "(Intercept)             -2.071e+08  1.802e+08  -1.149  0.27290   \n",
       "textile_china$\"338/339\"  5.739e-01  1.661e-01   3.455  0.00476 **\n",
       "textile_china$\"340/640\"  9.597e-01  7.152e-01   1.342  0.20449   \n",
       "textile_china$\"349/649\"  8.058e-01  4.564e-01   1.766  0.10287   \n",
       "textile_china$\"352/652\"  5.736e-01  3.931e-01   1.459  0.17019   \n",
       "---\n",
       "Signif. codes:  0 '***' 0.001 '**' 0.01 '*' 0.05 '.' 0.1 ' ' 1\n",
       "\n",
       "Residual standard error: 167300000 on 12 degrees of freedom\n",
       "Multiple R-squared:  0.9859,\tAdjusted R-squared:  0.9812 \n",
       "F-statistic:   210 on 4 and 12 DF,  p-value: 5.395e-11\n"
      ]
     },
     "metadata": {},
     "output_type": "display_data"
    }
   ],
   "source": [
    "model6 <- lm( textile_china$\"347/348\" ~ textile_china$\"338/339\" + textile_china$\"340/640\" +\n",
    "             textile_china$\"349/649\" + textile_china$\"352/652\", data = textile_china)\n",
    "summary(model6)"
   ]
  },
  {
   "cell_type": "code",
   "execution_count": 130,
   "metadata": {},
   "outputs": [
    {
     "data": {
      "text/plain": [
       "\n",
       "Call:\n",
       "lm(formula = textile_china$\"347/348\" ~ textile_china$\"338/339\" + \n",
       "    textile_china$\"349/649\", data = textile_china)\n",
       "\n",
       "Residuals:\n",
       "       Min         1Q     Median         3Q        Max \n",
       "-259688577 -113196018    3555791   65076942  322218314 \n",
       "\n",
       "Coefficients:\n",
       "                          Estimate Std. Error t value Pr(>|t|)    \n",
       "(Intercept)             -2.099e+08  1.719e+08  -1.221 0.242125    \n",
       "textile_china$\"338/339\"  7.844e-01  7.974e-02   9.837 1.14e-07 ***\n",
       "textile_china$\"349/649\"  1.356e+00  3.163e-01   4.287 0.000752 ***\n",
       "---\n",
       "Signif. codes:  0 '***' 0.001 '**' 0.01 '*' 0.05 '.' 0.1 ' ' 1\n",
       "\n",
       "Residual standard error: 171700000 on 14 degrees of freedom\n",
       "Multiple R-squared:  0.9827,\tAdjusted R-squared:  0.9802 \n",
       "F-statistic: 397.2 on 2 and 14 DF,  p-value: 4.673e-13\n"
      ]
     },
     "metadata": {},
     "output_type": "display_data"
    }
   ],
   "source": [
    "model7 <- lm( textile_china$\"347/348\" ~ textile_china$\"338/339\" + textile_china$\"349/649\" , data = textile_china)\n",
    "summary(model7)"
   ]
  },
  {
   "cell_type": "markdown",
   "metadata": {},
   "source": [
    "Here, Model7 is best as it has the least p-value and explains 98% of errors which is highest."
   ]
  },
  {
   "cell_type": "markdown",
   "metadata": {},
   "source": [
    "## Summary\n",
    "\n",
    "In this analysis, we have analyzed certain aspects of the textile industry between the United States Trade volumes with China. More importantly, we have gained insight into the behavior of these different categories of the textile industry and observed how they react to one another. The data comes from the United States Department of Commerce, with monthly import data from China and the world, from 2003 through 2020. The data used for the specific research focused on imports in dollars, not volume.\n",
    "\n",
    "We have analyzed the correlations between the different textile categories holistically, then in the 2008 recession era, and finally in the current Covid-19 era. We have identified strong correlations across the import categories, this information can be used to make a better decision on what category of the textile industry to focus on. This specific category can be monitored closely, the behavior of this category can also be studied further. The behavior during the 2008 recession can be used to make inferences about how it may behave during the current Covid-19 crisis which has caused major disruptions to local and global economies. With the pandemic originating in China, the textile industry as it relates to China will undoubtedly be affected as well.\n",
    "\n",
    "Category “347/348” was identified as the best response variable to focus on. This category is “M&B cotton trousers, breeches & shorts, and W&G cotton trousers, slacks, & shorts”. This category was visually shown as being one of the key imports from the world ($), as well as from China ($). In 2003 it was the #1 world import, and #2 world import categories in 2008 and 2019. In imports from China it stood as the #1 import in 2008 and 2019. The main idea behind this is that it is a historically significant import in US history for both the 2008 recession as well as the current 2020 Covid-19 era. \n",
    "\n",
    "Another supporting visual of why this category is representative of the industry are the two charts “Total_before_recession” & “Total_after_recession”. Here we see that it is very similar to the category “338/339” as well. They both make up a very significant part of the imports in the textile industry in regards to imports from China. A feature of this visual is that the significance of the variable “347/348” remained before and after the recession of 2008. This further supports the idea that it can be used to make inferences about the industry as a whole.\n",
    "\n",
    "The size of the imports of category “347/348” display its significance in the role it plays in the economy of the textile industry of the United States. Alongside the size of imports, this specific category also displays very high correlation with other categories of the industry. One example of this is the multiple linear regression model7. Category “347/348” responds very well to the other categories: “338/339” and 349/649“ which were both visually shown as high volume imports as well. This model produced an adjusted R-Squared of approximately 98%, and significance codes of ‘0’ amongst all coefficient variables.\n",
    "\n",
    "In a broader view, the correlation matrix “ggpairs(textile_china)” shows how well this category interacts with other variables. Notably, the highest correlation we see with this variable is with category “338/339”, resulting in a correlation of ‘0.980’. The lowest correlation we see is with category “352/652”, resulting in a correlation of ‘0.869’. One important observation of this correlation matrix is that all of the variables behave in a positive manner. All of the correlations are positive when we look at imports from China, which leads to an interesting conclusion. The economy of the textile import industry with China is logically holistic, when the economy of this industry goes down or up, the individual categories react in the same manner respectively."
   ]
  },
  {
   "cell_type": "markdown",
   "metadata": {},
   "source": [
    "## Originality\n",
    "\"No other similar published works for linear regression found with same dataset\" "
   ]
  }
 ],
 "metadata": {
  "kernelspec": {
   "display_name": "R",
   "language": "R",
   "name": "ir"
  },
  "language_info": {
   "codemirror_mode": "r",
   "file_extension": ".r",
   "mimetype": "text/x-r-source",
   "name": "R",
   "pygments_lexer": "r",
   "version": "3.6.1"
  }
 },
 "nbformat": 4,
 "nbformat_minor": 4
}
